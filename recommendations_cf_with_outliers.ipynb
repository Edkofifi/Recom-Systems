{
 "cells": [
  {
   "cell_type": "code",
   "execution_count": 69,
   "id": "05c2c3a6-ec0e-4ca5-97b0-7eaa7ae9afad",
   "metadata": {},
   "outputs": [],
   "source": [
    "import pandas as pd\n",
    "import os\n",
    "import numpy as np\n",
    "import matplotlib.pyplot as plt\n",
    "import seaborn as sns\n",
    "from sklearn.metrics.pairwise import cosine_similarity\n",
    "from sklearn.feature_extraction.text import TfidfVectorizer\n",
    "from sklearn.model_selection import train_test_split\n",
    "from sklearn.neighbors import NearestNeighbors  \n",
    "from scipy.sparse import csr_matrix\n",
    "from sklearn.decomposition import TruncatedSVD"
   ]
  },
  {
   "cell_type": "code",
   "execution_count": 39,
   "id": "6ad9fe78-7a40-44e9-81bd-7976db853a49",
   "metadata": {},
   "outputs": [
    {
     "data": {
      "text/html": [
       "<div>\n",
       "<style scoped>\n",
       "    .dataframe tbody tr th:only-of-type {\n",
       "        vertical-align: middle;\n",
       "    }\n",
       "\n",
       "    .dataframe tbody tr th {\n",
       "        vertical-align: top;\n",
       "    }\n",
       "\n",
       "    .dataframe thead th {\n",
       "        text-align: right;\n",
       "    }\n",
       "</style>\n",
       "<table border=\"1\" class=\"dataframe\">\n",
       "  <thead>\n",
       "    <tr style=\"text-align: right;\">\n",
       "      <th></th>\n",
       "      <th>URL</th>\n",
       "      <th>Product_id</th>\n",
       "      <th>BrandName</th>\n",
       "      <th>Category</th>\n",
       "      <th>Individual_category</th>\n",
       "      <th>category_by_Gender</th>\n",
       "      <th>Description</th>\n",
       "      <th>DiscountPrice (in Rs)</th>\n",
       "      <th>OriginalPrice (in Rs)</th>\n",
       "      <th>DiscountOffer</th>\n",
       "      <th>SizeOption</th>\n",
       "      <th>Ratings</th>\n",
       "      <th>Reviews</th>\n",
       "    </tr>\n",
       "  </thead>\n",
       "  <tbody>\n",
       "    <tr>\n",
       "      <th>0</th>\n",
       "      <td>https://www.myntra.com/jeans/roadster/roadster...</td>\n",
       "      <td>2296012</td>\n",
       "      <td>Roadster</td>\n",
       "      <td>Bottom Wear</td>\n",
       "      <td>jeans</td>\n",
       "      <td>Men</td>\n",
       "      <td>roadster men navy blue slim fit mid rise clean...</td>\n",
       "      <td>824.0</td>\n",
       "      <td>1499.0</td>\n",
       "      <td>45% OFF</td>\n",
       "      <td>28, 30, 32, 34, 36</td>\n",
       "      <td>3.9</td>\n",
       "      <td>999.0</td>\n",
       "    </tr>\n",
       "    <tr>\n",
       "      <th>1</th>\n",
       "      <td>https://www.myntra.com/track-pants/locomotive/...</td>\n",
       "      <td>13780156</td>\n",
       "      <td>LOCOMOTIVE</td>\n",
       "      <td>Bottom Wear</td>\n",
       "      <td>track-pants</td>\n",
       "      <td>Men</td>\n",
       "      <td>locomotive men black  white solid slim fit tra...</td>\n",
       "      <td>517.0</td>\n",
       "      <td>1149.0</td>\n",
       "      <td>55% OFF</td>\n",
       "      <td>S, M, L, XL</td>\n",
       "      <td>4.0</td>\n",
       "      <td>999.0</td>\n",
       "    </tr>\n",
       "    <tr>\n",
       "      <th>2</th>\n",
       "      <td>https://www.myntra.com/shirts/roadster/roadste...</td>\n",
       "      <td>11895958</td>\n",
       "      <td>Roadster</td>\n",
       "      <td>Topwear</td>\n",
       "      <td>shirts</td>\n",
       "      <td>Men</td>\n",
       "      <td>roadster men navy white  black geometric print...</td>\n",
       "      <td>629.0</td>\n",
       "      <td>1399.0</td>\n",
       "      <td>55% OFF</td>\n",
       "      <td>38, 40, 42, 44, 46, 48</td>\n",
       "      <td>4.3</td>\n",
       "      <td>999.0</td>\n",
       "    </tr>\n",
       "    <tr>\n",
       "      <th>3</th>\n",
       "      <td>https://www.myntra.com/shapewear/zivame/zivame...</td>\n",
       "      <td>4335679</td>\n",
       "      <td>Zivame</td>\n",
       "      <td>Lingerie &amp; Sleep Wear</td>\n",
       "      <td>shapewear</td>\n",
       "      <td>Women</td>\n",
       "      <td>zivame women black saree shapewear zi3023core0...</td>\n",
       "      <td>893.0</td>\n",
       "      <td>1295.0</td>\n",
       "      <td>31% OFF</td>\n",
       "      <td>S, M, L, XL, XXL</td>\n",
       "      <td>4.2</td>\n",
       "      <td>999.0</td>\n",
       "    </tr>\n",
       "    <tr>\n",
       "      <th>4</th>\n",
       "      <td>https://www.myntra.com/trousers/highlander/hig...</td>\n",
       "      <td>6744434</td>\n",
       "      <td>HIGHLANDER</td>\n",
       "      <td>Bottom Wear</td>\n",
       "      <td>trousers</td>\n",
       "      <td>Men</td>\n",
       "      <td>highlander men olive green slim fit solid regu...</td>\n",
       "      <td>599.0</td>\n",
       "      <td>1499.0</td>\n",
       "      <td>60% OFF</td>\n",
       "      <td>30, 32, 34, 36</td>\n",
       "      <td>3.9</td>\n",
       "      <td>998.0</td>\n",
       "    </tr>\n",
       "    <tr>\n",
       "      <th>...</th>\n",
       "      <td>...</td>\n",
       "      <td>...</td>\n",
       "      <td>...</td>\n",
       "      <td>...</td>\n",
       "      <td>...</td>\n",
       "      <td>...</td>\n",
       "      <td>...</td>\n",
       "      <td>...</td>\n",
       "      <td>...</td>\n",
       "      <td>...</td>\n",
       "      <td>...</td>\n",
       "      <td>...</td>\n",
       "      <td>...</td>\n",
       "    </tr>\n",
       "    <tr>\n",
       "      <th>117536</th>\n",
       "      <td>https://www.myntra.com/tshirts/hrx-by-hrithik-...</td>\n",
       "      <td>8379269</td>\n",
       "      <td>HRX by Hrithik Roshan</td>\n",
       "      <td>Sports Wear</td>\n",
       "      <td>tshirts</td>\n",
       "      <td>Women</td>\n",
       "      <td>hrx by hrithik roshan women navy blue nautical...</td>\n",
       "      <td>404.0</td>\n",
       "      <td>899.0</td>\n",
       "      <td>55% OFF</td>\n",
       "      <td>XS, S, M, L, XL</td>\n",
       "      <td>4.4</td>\n",
       "      <td>0.0</td>\n",
       "    </tr>\n",
       "    <tr>\n",
       "      <th>117537</th>\n",
       "      <td>https://www.myntra.com/track-pants/stylestone/...</td>\n",
       "      <td>12767048</td>\n",
       "      <td>StyleStone</td>\n",
       "      <td>Sports Wear</td>\n",
       "      <td>track-pants</td>\n",
       "      <td>Women</td>\n",
       "      <td>stylestone women black solid track pants</td>\n",
       "      <td>467.0</td>\n",
       "      <td>899.0</td>\n",
       "      <td>48% OFF</td>\n",
       "      <td>S, M, L, XL</td>\n",
       "      <td>4.2</td>\n",
       "      <td>0.0</td>\n",
       "    </tr>\n",
       "    <tr>\n",
       "      <th>117538</th>\n",
       "      <td>https://www.myntra.com/tshirts/hrx-by-hrithik-...</td>\n",
       "      <td>10106141</td>\n",
       "      <td>HRX by Hrithik Roshan</td>\n",
       "      <td>Sports Wear</td>\n",
       "      <td>tshirts</td>\n",
       "      <td>Women</td>\n",
       "      <td>hrx by hrithik roshan women black  green print...</td>\n",
       "      <td>404.0</td>\n",
       "      <td>899.0</td>\n",
       "      <td>55% OFF</td>\n",
       "      <td>S/M, L/XL</td>\n",
       "      <td>4.4</td>\n",
       "      <td>0.0</td>\n",
       "    </tr>\n",
       "    <tr>\n",
       "      <th>117539</th>\n",
       "      <td>https://www.myntra.com/tshirts/hrx-by-hrithik-...</td>\n",
       "      <td>11640324</td>\n",
       "      <td>HRX by Hrithik Roshan</td>\n",
       "      <td>Sports Wear</td>\n",
       "      <td>tshirts</td>\n",
       "      <td>Women</td>\n",
       "      <td>hrx by hrithik roshan women north sea printed ...</td>\n",
       "      <td>494.0</td>\n",
       "      <td>899.0</td>\n",
       "      <td>45% OFF</td>\n",
       "      <td>XS, S, M, L, XL</td>\n",
       "      <td>4.4</td>\n",
       "      <td>0.0</td>\n",
       "    </tr>\n",
       "    <tr>\n",
       "      <th>117540</th>\n",
       "      <td>https://www.myntra.com/tshirts/hrx-by-hrithik-...</td>\n",
       "      <td>11639956</td>\n",
       "      <td>HRX by Hrithik Roshan</td>\n",
       "      <td>Sports Wear</td>\n",
       "      <td>tshirts</td>\n",
       "      <td>Women</td>\n",
       "      <td>hrx by hrithik roshan green printed rapid dry ...</td>\n",
       "      <td>494.0</td>\n",
       "      <td>899.0</td>\n",
       "      <td>45% OFF</td>\n",
       "      <td>XS, S, M, L, XL</td>\n",
       "      <td>4.5</td>\n",
       "      <td>0.0</td>\n",
       "    </tr>\n",
       "  </tbody>\n",
       "</table>\n",
       "<p>117541 rows × 13 columns</p>\n",
       "</div>"
      ],
      "text/plain": [
       "                                                      URL  Product_id  \\\n",
       "0       https://www.myntra.com/jeans/roadster/roadster...     2296012   \n",
       "1       https://www.myntra.com/track-pants/locomotive/...    13780156   \n",
       "2       https://www.myntra.com/shirts/roadster/roadste...    11895958   \n",
       "3       https://www.myntra.com/shapewear/zivame/zivame...     4335679   \n",
       "4       https://www.myntra.com/trousers/highlander/hig...     6744434   \n",
       "...                                                   ...         ...   \n",
       "117536  https://www.myntra.com/tshirts/hrx-by-hrithik-...     8379269   \n",
       "117537  https://www.myntra.com/track-pants/stylestone/...    12767048   \n",
       "117538  https://www.myntra.com/tshirts/hrx-by-hrithik-...    10106141   \n",
       "117539  https://www.myntra.com/tshirts/hrx-by-hrithik-...    11640324   \n",
       "117540  https://www.myntra.com/tshirts/hrx-by-hrithik-...    11639956   \n",
       "\n",
       "                    BrandName               Category Individual_category  \\\n",
       "0                    Roadster            Bottom Wear               jeans   \n",
       "1                  LOCOMOTIVE            Bottom Wear         track-pants   \n",
       "2                    Roadster                Topwear              shirts   \n",
       "3                      Zivame  Lingerie & Sleep Wear           shapewear   \n",
       "4                  HIGHLANDER            Bottom Wear            trousers   \n",
       "...                       ...                    ...                 ...   \n",
       "117536  HRX by Hrithik Roshan            Sports Wear             tshirts   \n",
       "117537             StyleStone            Sports Wear         track-pants   \n",
       "117538  HRX by Hrithik Roshan            Sports Wear             tshirts   \n",
       "117539  HRX by Hrithik Roshan            Sports Wear             tshirts   \n",
       "117540  HRX by Hrithik Roshan            Sports Wear             tshirts   \n",
       "\n",
       "       category_by_Gender                                        Description  \\\n",
       "0                     Men  roadster men navy blue slim fit mid rise clean...   \n",
       "1                     Men  locomotive men black  white solid slim fit tra...   \n",
       "2                     Men  roadster men navy white  black geometric print...   \n",
       "3                   Women  zivame women black saree shapewear zi3023core0...   \n",
       "4                     Men  highlander men olive green slim fit solid regu...   \n",
       "...                   ...                                                ...   \n",
       "117536              Women  hrx by hrithik roshan women navy blue nautical...   \n",
       "117537              Women           stylestone women black solid track pants   \n",
       "117538              Women  hrx by hrithik roshan women black  green print...   \n",
       "117539              Women  hrx by hrithik roshan women north sea printed ...   \n",
       "117540              Women  hrx by hrithik roshan green printed rapid dry ...   \n",
       "\n",
       "        DiscountPrice (in Rs)  OriginalPrice (in Rs) DiscountOffer  \\\n",
       "0                       824.0                 1499.0       45% OFF   \n",
       "1                       517.0                 1149.0       55% OFF   \n",
       "2                       629.0                 1399.0       55% OFF   \n",
       "3                       893.0                 1295.0       31% OFF   \n",
       "4                       599.0                 1499.0       60% OFF   \n",
       "...                       ...                    ...           ...   \n",
       "117536                  404.0                  899.0       55% OFF   \n",
       "117537                  467.0                  899.0       48% OFF   \n",
       "117538                  404.0                  899.0       55% OFF   \n",
       "117539                  494.0                  899.0       45% OFF   \n",
       "117540                  494.0                  899.0       45% OFF   \n",
       "\n",
       "                    SizeOption  Ratings  Reviews  \n",
       "0           28, 30, 32, 34, 36      3.9    999.0  \n",
       "1                  S, M, L, XL      4.0    999.0  \n",
       "2       38, 40, 42, 44, 46, 48      4.3    999.0  \n",
       "3             S, M, L, XL, XXL      4.2    999.0  \n",
       "4               30, 32, 34, 36      3.9    998.0  \n",
       "...                        ...      ...      ...  \n",
       "117536         XS, S, M, L, XL      4.4      0.0  \n",
       "117537             S, M, L, XL      4.2      0.0  \n",
       "117538               S/M, L/XL      4.4      0.0  \n",
       "117539         XS, S, M, L, XL      4.4      0.0  \n",
       "117540         XS, S, M, L, XL      4.5      0.0  \n",
       "\n",
       "[117541 rows x 13 columns]"
      ]
     },
     "execution_count": 39,
     "metadata": {},
     "output_type": "execute_result"
    }
   ],
   "source": [
    "path =  './Myntra_Fashion_Clothing.csv'\n",
    "clothing_df= pd.read_csv(path)\n",
    "clothing_df\n"
   ]
  },
  {
   "cell_type": "code",
   "execution_count": 41,
   "id": "49ee6ac3-e9e9-4b9a-b5ce-c50c27dabd7f",
   "metadata": {},
   "outputs": [],
   "source": [
    "# Split the data\n",
    "train_data, test_data = train_test_split(clothing_df, test_size=0.2, random_state=42)\n"
   ]
  },
  {
   "cell_type": "code",
   "execution_count": 42,
   "id": "00771c33-a999-4049-9016-80426a686cac",
   "metadata": {},
   "outputs": [],
   "source": [
    "# Create a pivot table for product-product interactions using both Ratings and Reviews for training data\n",
    "train_features = train_data[['Product_id', 'Ratings', 'Reviews']].set_index('Product_id').fillna(0)\n",
    "\n",
    "# Convert to sparse matrix representation\n",
    "train_features_sparse = csr_matrix(train_features.values)\n"
   ]
  },
  {
   "cell_type": "code",
   "execution_count": 44,
   "id": "562869fd-1224-4785-ab32-de2ee0891e49",
   "metadata": {},
   "outputs": [
    {
     "data": {
      "text/html": [
       "<style>#sk-container-id-1 {color: black;}#sk-container-id-1 pre{padding: 0;}#sk-container-id-1 div.sk-toggleable {background-color: white;}#sk-container-id-1 label.sk-toggleable__label {cursor: pointer;display: block;width: 100%;margin-bottom: 0;padding: 0.3em;box-sizing: border-box;text-align: center;}#sk-container-id-1 label.sk-toggleable__label-arrow:before {content: \"▸\";float: left;margin-right: 0.25em;color: #696969;}#sk-container-id-1 label.sk-toggleable__label-arrow:hover:before {color: black;}#sk-container-id-1 div.sk-estimator:hover label.sk-toggleable__label-arrow:before {color: black;}#sk-container-id-1 div.sk-toggleable__content {max-height: 0;max-width: 0;overflow: hidden;text-align: left;background-color: #f0f8ff;}#sk-container-id-1 div.sk-toggleable__content pre {margin: 0.2em;color: black;border-radius: 0.25em;background-color: #f0f8ff;}#sk-container-id-1 input.sk-toggleable__control:checked~div.sk-toggleable__content {max-height: 200px;max-width: 100%;overflow: auto;}#sk-container-id-1 input.sk-toggleable__control:checked~label.sk-toggleable__label-arrow:before {content: \"▾\";}#sk-container-id-1 div.sk-estimator input.sk-toggleable__control:checked~label.sk-toggleable__label {background-color: #d4ebff;}#sk-container-id-1 div.sk-label input.sk-toggleable__control:checked~label.sk-toggleable__label {background-color: #d4ebff;}#sk-container-id-1 input.sk-hidden--visually {border: 0;clip: rect(1px 1px 1px 1px);clip: rect(1px, 1px, 1px, 1px);height: 1px;margin: -1px;overflow: hidden;padding: 0;position: absolute;width: 1px;}#sk-container-id-1 div.sk-estimator {font-family: monospace;background-color: #f0f8ff;border: 1px dotted black;border-radius: 0.25em;box-sizing: border-box;margin-bottom: 0.5em;}#sk-container-id-1 div.sk-estimator:hover {background-color: #d4ebff;}#sk-container-id-1 div.sk-parallel-item::after {content: \"\";width: 100%;border-bottom: 1px solid gray;flex-grow: 1;}#sk-container-id-1 div.sk-label:hover label.sk-toggleable__label {background-color: #d4ebff;}#sk-container-id-1 div.sk-serial::before {content: \"\";position: absolute;border-left: 1px solid gray;box-sizing: border-box;top: 0;bottom: 0;left: 50%;z-index: 0;}#sk-container-id-1 div.sk-serial {display: flex;flex-direction: column;align-items: center;background-color: white;padding-right: 0.2em;padding-left: 0.2em;position: relative;}#sk-container-id-1 div.sk-item {position: relative;z-index: 1;}#sk-container-id-1 div.sk-parallel {display: flex;align-items: stretch;justify-content: center;background-color: white;position: relative;}#sk-container-id-1 div.sk-item::before, #sk-container-id-1 div.sk-parallel-item::before {content: \"\";position: absolute;border-left: 1px solid gray;box-sizing: border-box;top: 0;bottom: 0;left: 50%;z-index: -1;}#sk-container-id-1 div.sk-parallel-item {display: flex;flex-direction: column;z-index: 1;position: relative;background-color: white;}#sk-container-id-1 div.sk-parallel-item:first-child::after {align-self: flex-end;width: 50%;}#sk-container-id-1 div.sk-parallel-item:last-child::after {align-self: flex-start;width: 50%;}#sk-container-id-1 div.sk-parallel-item:only-child::after {width: 0;}#sk-container-id-1 div.sk-dashed-wrapped {border: 1px dashed gray;margin: 0 0.4em 0.5em 0.4em;box-sizing: border-box;padding-bottom: 0.4em;background-color: white;}#sk-container-id-1 div.sk-label label {font-family: monospace;font-weight: bold;display: inline-block;line-height: 1.2em;}#sk-container-id-1 div.sk-label-container {text-align: center;}#sk-container-id-1 div.sk-container {/* jupyter's `normalize.less` sets `[hidden] { display: none; }` but bootstrap.min.css set `[hidden] { display: none !important; }` so we also need the `!important` here to be able to override the default hidden behavior on the sphinx rendered scikit-learn.org. See: https://github.com/scikit-learn/scikit-learn/issues/21755 */display: inline-block !important;position: relative;}#sk-container-id-1 div.sk-text-repr-fallback {display: none;}</style><div id=\"sk-container-id-1\" class=\"sk-top-container\"><div class=\"sk-text-repr-fallback\"><pre>NearestNeighbors(algorithm=&#x27;brute&#x27;, metric=&#x27;cosine&#x27;)</pre><b>In a Jupyter environment, please rerun this cell to show the HTML representation or trust the notebook. <br />On GitHub, the HTML representation is unable to render, please try loading this page with nbviewer.org.</b></div><div class=\"sk-container\" hidden><div class=\"sk-item\"><div class=\"sk-estimator sk-toggleable\"><input class=\"sk-toggleable__control sk-hidden--visually\" id=\"sk-estimator-id-1\" type=\"checkbox\" checked><label for=\"sk-estimator-id-1\" class=\"sk-toggleable__label sk-toggleable__label-arrow\">NearestNeighbors</label><div class=\"sk-toggleable__content\"><pre>NearestNeighbors(algorithm=&#x27;brute&#x27;, metric=&#x27;cosine&#x27;)</pre></div></div></div></div></div>"
      ],
      "text/plain": [
       "NearestNeighbors(algorithm='brute', metric='cosine')"
      ]
     },
     "execution_count": 44,
     "metadata": {},
     "output_type": "execute_result"
    }
   ],
   "source": [
    "# Use NearestNeighbors for approximate nearest neighbors\n",
    "nn = NearestNeighbors(metric='cosine', algorithm='brute')\n",
    "nn.fit(train_features_sparse)"
   ]
  },
  {
   "cell_type": "code",
   "execution_count": 45,
   "id": "1887d23e-ccc2-4b26-80f6-34218535622d",
   "metadata": {},
   "outputs": [],
   "source": [
    "# Apply Truncated SVD to reduce dimensions for the training set\n",
    "#svd = TruncatedSVD(n_components=100, random_state=42)\n",
    "# train_features_reduced = svd.fit_transform(train_features_sparse)"
   ]
  },
  {
   "cell_type": "code",
   "execution_count": 47,
   "id": "a9577f16-9ad7-4602-9084-008344555667",
   "metadata": {},
   "outputs": [
    {
     "name": "stdout",
     "output_type": "stream",
     "text": [
      "Distances:  [[1.11022302e-16 1.11022302e-16 1.11022302e-16 1.11022302e-16\n",
      "  1.11022302e-16 1.11022302e-16 1.11022302e-16 1.11022302e-16\n",
      "  1.11022302e-16 1.11022302e-16]]\n",
      "Indices:  [[51097 56577  8484 58428 32833 90994 40662  2501 28007 41054]]\n"
     ]
    }
   ],
   "source": [
    "# Get distances and indices of nearest neighbors for a sample item\n",
    "distances, indices = nn.kneighbors(train_features_sparse[0], n_neighbors=10)\n",
    "\n",
    "# Print the results for the first item\n",
    "print(\"Distances: \", distances)\n",
    "print(\"Indices: \", indices)"
   ]
  },
  {
   "cell_type": "code",
   "execution_count": 48,
   "id": "1d8e099a-2f90-45d0-95f5-cb3bce86061a",
   "metadata": {},
   "outputs": [],
   "source": [
    "def get_recommendations(item_index, model, data, n_neighbors=10):\n",
    "    distances, indices = model.kneighbors(data[item_index], n_neighbors=n_neighbors)\n",
    "    return indices.flatten(), distances.flatten() \n"
   ]
  },
  {
   "cell_type": "code",
   "execution_count": 49,
   "id": "9b992c38-e51c-4af6-8c2f-8c6991678770",
   "metadata": {},
   "outputs": [
    {
     "name": "stdout",
     "output_type": "stream",
     "text": [
      "Recommended indices: [51097 56577  8484 58428 32833 90994 40662  2501 28007 41054]\n",
      "Recommended distances: [1.11022302e-16 1.11022302e-16 1.11022302e-16 1.11022302e-16\n",
      " 1.11022302e-16 1.11022302e-16 1.11022302e-16 1.11022302e-16\n",
      " 1.11022302e-16 1.11022302e-16]\n"
     ]
    }
   ],
   "source": [
    "# Example usage for the first item\n",
    "item_index = 0\n",
    "recommended_indices, recommended_distances = get_recommendations(item_index, nn, train_features_sparse)\n",
    "print(\"Recommended indices:\", recommended_indices)\n",
    "print(\"Recommended distances:\", recommended_distances) "
   ]
  },
  {
   "cell_type": "code",
   "execution_count": 51,
   "id": "b0943f1b-d9c8-44a8-979d-5e2ac6aff55c",
   "metadata": {},
   "outputs": [],
   "source": [
    "recommendations = {}\n",
    "\n",
    "for idx in range(train_features_sparse.shape[0]):\n",
    "    recommended_indices, _ = get_recommendations(idx, nn, train_features_sparse)\n",
    "    recommendations[idx] = recommended_indices[1:]  \n"
   ]
  },
  {
   "cell_type": "code",
   "execution_count": 55,
   "id": "a94b02c3-22ac-45ce-a08e-531d428b1f3d",
   "metadata": {},
   "outputs": [],
   "source": [
    "# Function to get similar products with descriptions\n",
    "def get_similar_products_with_descriptions(product_id, n_neighbors=10):\n",
    "    product_index = train_features.index.get_loc(product_id)\n",
    "    recommended_indices, _ = get_recommendations(product_index, nn, train_features_sparse, n_neighbors=n_neighbors)\n",
    "    recommended_products = [train_features.index[idx] for idx in recommended_indices[1:]]\n",
    "    \n",
    "    # Get descriptions for the recommended products\n",
    "    similar_products_with_descriptions = []\n",
    "    for product in recommended_products:\n",
    "        description = clothing_df.loc[clothing_df['Product_id'] == product, 'Description'].values[0]\n",
    "        similar_products_with_descriptions.append((product, description))\n",
    "    \n",
    "    return similar_products_with_descriptions"
   ]
  },
  {
   "cell_type": "code",
   "execution_count": 70,
   "id": "c532cc53-43e3-4112-8a33-c916da540413",
   "metadata": {},
   "outputs": [
    {
     "name": "stdout",
     "output_type": "stream",
     "text": [
      "Product ID: 14121958, Description: anouk men black printed regular pure cotton kurta with pyjamas\n",
      "Product ID: 9823649, Description: sztori plus size women navy blue skinny fit mid rise clean look stretchable jeans\n",
      "Product ID: 10931658, Description: dressberry beige self design non wired lightly padded everyday bra\n",
      "Product ID: 12142384, Description: levis men pack of 2 black solid basic briefs 017 brief\n"
     ]
    }
   ],
   "source": [
    "# Example: Get top 5 similar products for a given product_id\n",
    "product_id_example = train_data['Product_id'].iloc[790]\n",
    "similar_products = get_similar_products_with_descriptions(product_id_example, n_neighbors=5)\n",
    "for product in similar_products:\n",
    "    print(f\"Product ID: {product[0]}, Description: {product[1]}\")"
   ]
  },
  {
   "cell_type": "code",
   "execution_count": 60,
   "id": "8ca31628-bab2-427b-b631-d98fe210ea48",
   "metadata": {},
   "outputs": [],
   "source": [
    "import numpy as np"
   ]
  },
  {
   "cell_type": "code",
   "execution_count": 68,
   "id": "5ae7c947-a027-46ce-a217-a3c3b9a20113",
   "metadata": {},
   "outputs": [
    {
     "name": "stdout",
     "output_type": "stream",
     "text": [
      "RMSE: nan\n"
     ]
    }
   ],
   "source": [
    "# Evaluate using RMSE\n",
    "def calculate_rmse(test_data, train_features_sparse, nn, k=5):\n",
    "    errors = []\n",
    "    for product_id in test_data['Product_id']:\n",
    "        if product_id not in train_features.index:\n",
    "            continue\n",
    "        similar_products = get_similar_products_with_descriptions(product_id, n_neighbors=k)\n",
    "        if not similar_products:\n",
    "            continue\n",
    "        predicted_rating = np.mean([train_data.loc[train_data['Product_id'] == sp[0], 'Ratings'].values[0] for sp in similar_products])\n",
    "        actual_rating = test_data[test_data['Product_id'] == product_id]['Ratings'].values[0]\n",
    "        errors.append((predicted_rating - actual_rating) ** 2)\n",
    "    return np.sqrt(np.mean(errors))"
   ]
  },
  {
   "cell_type": "code",
   "execution_count": 62,
   "id": "04996f90-f6a0-45f1-9e40-a5c93dce3602",
   "metadata": {},
   "outputs": [
    {
     "name": "stdout",
     "output_type": "stream",
     "text": [
      "RMSE: nan\n"
     ]
    },
    {
     "name": "stderr",
     "output_type": "stream",
     "text": [
      "C:\\Users\\Maa Abena\\AppData\\Local\\Programs\\Python\\Python311\\Lib\\site-packages\\numpy\\core\\fromnumeric.py:3464: RuntimeWarning: Mean of empty slice.\n",
      "  return _methods._mean(a, axis=axis, dtype=dtype,\n",
      "C:\\Users\\Maa Abena\\AppData\\Local\\Programs\\Python\\Python311\\Lib\\site-packages\\numpy\\core\\_methods.py:192: RuntimeWarning: invalid value encountered in scalar divide\n",
      "  ret = ret.dtype.type(ret / rcount)\n"
     ]
    }
   ],
   "source": [
    "# Example: Calculate RMSE for the test set\n",
    "rmse = calculate_rmse(test_data, train_features_sparse, nn, k=5)\n",
    "print(f'RMSE: {rmse}')"
   ]
  },
  {
   "cell_type": "code",
   "execution_count": 53,
   "id": "2e83196d-88d2-4e0c-8a90-60046d237b5d",
   "metadata": {},
   "outputs": [],
   "source": [
    "import pickle"
   ]
  },
  {
   "cell_type": "code",
   "execution_count": 54,
   "id": "0a15e62c-d9fc-4588-934f-a77ccdde6262",
   "metadata": {},
   "outputs": [
    {
     "name": "stdout",
     "output_type": "stream",
     "text": [
      "Recommendations saved successfully.\n"
     ]
    }
   ],
   "source": [
    "# Save the recommendations dictionary to a file\n",
    "with open('recommendations_cf_with_outliers.pkl', 'wb') as f:\n",
    "    pickle.dump(recommendations, f)\n",
    "\n",
    "print(\"Recommendations saved successfully.\")\n"
   ]
  },
  {
   "cell_type": "code",
   "execution_count": 52,
   "id": "2e2cbd74-8f03-4a02-b308-c5ec2bc3154e",
   "metadata": {},
   "outputs": [],
   "source": [
    "# Calculate the cosine similarity matrix based on reduced matrix for the training set\n",
    "#train_similarity_sparse = cosine_similarity(train_features_sparse)"
   ]
  },
  {
   "cell_type": "code",
   "execution_count": null,
   "id": "438a01dc-6075-4b98-b835-c940f50e0f96",
   "metadata": {},
   "outputs": [],
   "source": [
    "# Convert to DataFrame for easier manipulation\n",
    "product_similarity_df = pd.DataFrame(product_similarity_sparse, index=product_features.index, columns=product_features.index)"
   ]
  },
  {
   "cell_type": "code",
   "execution_count": 8,
   "id": "88f99d25-b96c-433f-a554-b895e7d4badc",
   "metadata": {
    "scrolled": true
   },
   "outputs": [
    {
     "ename": "NameError",
     "evalue": "name 'product_similarity' is not defined",
     "output_type": "error",
     "traceback": [
      "\u001b[1;31m---------------------------------------------------------------------------\u001b[0m",
      "\u001b[1;31mNameError\u001b[0m                                 Traceback (most recent call last)",
      "Cell \u001b[1;32mIn[8], line 2\u001b[0m\n\u001b[0;32m      1\u001b[0m \u001b[38;5;66;03m# Convert to DataFrame for easier manipulation\u001b[39;00m\n\u001b[1;32m----> 2\u001b[0m product_similarity_df \u001b[38;5;241m=\u001b[39m pd\u001b[38;5;241m.\u001b[39mDataFrame(\u001b[43mproduct_similarity\u001b[49m, index\u001b[38;5;241m=\u001b[39mproduct_features\u001b[38;5;241m.\u001b[39mindex, columns\u001b[38;5;241m=\u001b[39mproduct_features\u001b[38;5;241m.\u001b[39mindex)\n",
      "\u001b[1;31mNameError\u001b[0m: name 'product_similarity' is not defined"
     ]
    }
   ],
   "source": [
    "\n",
    "# Convert to DataFrame for easier manipulation\n",
    "product_similarity_df = pd.DataFrame(product_similarity, index=product_features.index, columns=product_features.index)\n",
    "\n"
   ]
  },
  {
   "cell_type": "code",
   "execution_count": 9,
   "id": "d5b82138-a5a4-4253-aa4e-40baa22c9ec9",
   "metadata": {},
   "outputs": [],
   "source": [
    "# Example: Get similar products for a given product_id\n",
    "def get_similar_products(product_id, num_similar=5):\n",
    "    similar_products = product_similarity_df[product_id].sort_values(ascending=False)[1:num_similar+1]\n",
    "    return similar_products\n"
   ]
  },
  {
   "cell_type": "code",
   "execution_count": 10,
   "id": "57e0c37c-943b-4f86-b789-1afb215515d2",
   "metadata": {},
   "outputs": [
    {
     "ename": "NameError",
     "evalue": "name 'product_similarity_df' is not defined",
     "output_type": "error",
     "traceback": [
      "\u001b[1;31m---------------------------------------------------------------------------\u001b[0m",
      "\u001b[1;31mNameError\u001b[0m                                 Traceback (most recent call last)",
      "Cell \u001b[1;32mIn[10], line 2\u001b[0m\n\u001b[0;32m      1\u001b[0m \u001b[38;5;66;03m# Get top 5 similar products for a given product_id\u001b[39;00m\n\u001b[1;32m----> 2\u001b[0m similar_products \u001b[38;5;241m=\u001b[39m \u001b[43mget_similar_products\u001b[49m\u001b[43m(\u001b[49m\u001b[38;5;241;43m2296012\u001b[39;49m\u001b[43m,\u001b[49m\u001b[43m \u001b[49m\u001b[43mnum_similar\u001b[49m\u001b[38;5;241;43m=\u001b[39;49m\u001b[38;5;241;43m5\u001b[39;49m\u001b[43m)\u001b[49m\n\u001b[0;32m      3\u001b[0m \u001b[38;5;28mprint\u001b[39m(similar_products)\n",
      "Cell \u001b[1;32mIn[9], line 3\u001b[0m, in \u001b[0;36mget_similar_products\u001b[1;34m(product_id, num_similar)\u001b[0m\n\u001b[0;32m      2\u001b[0m \u001b[38;5;28;01mdef\u001b[39;00m \u001b[38;5;21mget_similar_products\u001b[39m(product_id, num_similar\u001b[38;5;241m=\u001b[39m\u001b[38;5;241m5\u001b[39m):\n\u001b[1;32m----> 3\u001b[0m     similar_products \u001b[38;5;241m=\u001b[39m \u001b[43mproduct_similarity_df\u001b[49m[product_id]\u001b[38;5;241m.\u001b[39msort_values(ascending\u001b[38;5;241m=\u001b[39m\u001b[38;5;28;01mFalse\u001b[39;00m)[\u001b[38;5;241m1\u001b[39m:num_similar\u001b[38;5;241m+\u001b[39m\u001b[38;5;241m1\u001b[39m]\n\u001b[0;32m      4\u001b[0m     \u001b[38;5;28;01mreturn\u001b[39;00m similar_products\n",
      "\u001b[1;31mNameError\u001b[0m: name 'product_similarity_df' is not defined"
     ]
    }
   ],
   "source": [
    "\n",
    "# Get top 5 similar products for a given product_id\n",
    "similar_products = get_similar_products(2296012, num_similar=5)\n",
    "print(similar_products)"
   ]
  },
  {
   "cell_type": "code",
   "execution_count": null,
   "id": "e3ec4743-b0be-42af-9494-6f112144e99d",
   "metadata": {},
   "outputs": [],
   "source": []
  }
 ],
 "metadata": {
  "kernelspec": {
   "display_name": "Python 3 (ipykernel)",
   "language": "python",
   "name": "python3"
  },
  "language_info": {
   "codemirror_mode": {
    "name": "ipython",
    "version": 3
   },
   "file_extension": ".py",
   "mimetype": "text/x-python",
   "name": "python",
   "nbconvert_exporter": "python",
   "pygments_lexer": "ipython3",
   "version": "3.11.5"
  }
 },
 "nbformat": 4,
 "nbformat_minor": 5
}
