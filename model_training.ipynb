{
 "cells": [
  {
   "cell_type": "code",
   "execution_count": 2,
   "id": "a1c581c3-7cb2-43e1-97c2-aef625158543",
   "metadata": {},
   "outputs": [],
   "source": [
    "#!pip install scikit-learn\n"
   ]
  },
  {
   "cell_type": "code",
   "execution_count": 3,
   "id": "eb4df113-d50a-4d1d-bebf-36acd02379f4",
   "metadata": {},
   "outputs": [],
   "source": [
    "import pandas as pd\n",
    "import os\n",
    "import matplotlib.pyplot as plt\n",
    "import seaborn as sns\n",
    "from sklearn.neighbors import NearestNeighbors\n",
    "from sklearn.metrics.pairwise import cosine_similarity\n",
    "from sklearn.feature_extraction.text import TfidfVectorizer\n",
    "from sklearn.model_selection import train_test_split\n",
    "from sklearn.metrics.pairwise import cosine_similarity\n",
    "from sklearn.neighbors import NearestNeighbors"
   ]
  },
  {
   "cell_type": "code",
   "execution_count": 5,
   "id": "20e66836-26b0-4eb5-8c97-efebec8980ed",
   "metadata": {},
   "outputs": [
    {
     "data": {
      "text/html": [
       "<div>\n",
       "<style scoped>\n",
       "    .dataframe tbody tr th:only-of-type {\n",
       "        vertical-align: middle;\n",
       "    }\n",
       "\n",
       "    .dataframe tbody tr th {\n",
       "        vertical-align: top;\n",
       "    }\n",
       "\n",
       "    .dataframe thead th {\n",
       "        text-align: right;\n",
       "    }\n",
       "</style>\n",
       "<table border=\"1\" class=\"dataframe\">\n",
       "  <thead>\n",
       "    <tr style=\"text-align: right;\">\n",
       "      <th></th>\n",
       "      <th>URL</th>\n",
       "      <th>Product_id</th>\n",
       "      <th>DiscountPrice</th>\n",
       "      <th>OriginalPrice</th>\n",
       "      <th>DiscountOffer</th>\n",
       "      <th>Ratings</th>\n",
       "      <th>Reviews</th>\n",
       "      <th>pca_brandname_0</th>\n",
       "      <th>pca_brandname_1</th>\n",
       "      <th>pca_brandname_2</th>\n",
       "      <th>...</th>\n",
       "      <th>pca_40</th>\n",
       "      <th>pca_41</th>\n",
       "      <th>pca_42</th>\n",
       "      <th>pca_43</th>\n",
       "      <th>pca_44</th>\n",
       "      <th>pca_45</th>\n",
       "      <th>pca_46</th>\n",
       "      <th>pca_47</th>\n",
       "      <th>pca_48</th>\n",
       "      <th>pca_49</th>\n",
       "    </tr>\n",
       "  </thead>\n",
       "  <tbody>\n",
       "    <tr>\n",
       "      <th>0</th>\n",
       "      <td>https://www.myntra.com/jeans/roadster/roadster...</td>\n",
       "      <td>2296012</td>\n",
       "      <td>824.0</td>\n",
       "      <td>1499.0</td>\n",
       "      <td>45% OFF</td>\n",
       "      <td>3.9</td>\n",
       "      <td>999.0</td>\n",
       "      <td>-0.099034</td>\n",
       "      <td>-0.251434</td>\n",
       "      <td>0.928187</td>\n",
       "      <td>...</td>\n",
       "      <td>-0.005987</td>\n",
       "      <td>0.003710</td>\n",
       "      <td>0.004610</td>\n",
       "      <td>-0.005603</td>\n",
       "      <td>0.001344</td>\n",
       "      <td>0.001517</td>\n",
       "      <td>-0.000145</td>\n",
       "      <td>-0.004533</td>\n",
       "      <td>-0.007828</td>\n",
       "      <td>0.000565</td>\n",
       "    </tr>\n",
       "    <tr>\n",
       "      <th>1</th>\n",
       "      <td>https://www.myntra.com/track-pants/locomotive/...</td>\n",
       "      <td>13780156</td>\n",
       "      <td>517.0</td>\n",
       "      <td>1149.0</td>\n",
       "      <td>55% OFF</td>\n",
       "      <td>4.0</td>\n",
       "      <td>999.0</td>\n",
       "      <td>-0.034719</td>\n",
       "      <td>-0.022047</td>\n",
       "      <td>-0.027000</td>\n",
       "      <td>...</td>\n",
       "      <td>-0.000797</td>\n",
       "      <td>0.000518</td>\n",
       "      <td>0.001002</td>\n",
       "      <td>0.002038</td>\n",
       "      <td>-0.000069</td>\n",
       "      <td>0.000248</td>\n",
       "      <td>-0.000205</td>\n",
       "      <td>0.000724</td>\n",
       "      <td>0.000613</td>\n",
       "      <td>-0.000045</td>\n",
       "    </tr>\n",
       "    <tr>\n",
       "      <th>2</th>\n",
       "      <td>https://www.myntra.com/shirts/roadster/roadste...</td>\n",
       "      <td>11895958</td>\n",
       "      <td>629.0</td>\n",
       "      <td>1399.0</td>\n",
       "      <td>55% OFF</td>\n",
       "      <td>4.3</td>\n",
       "      <td>999.0</td>\n",
       "      <td>-0.099034</td>\n",
       "      <td>-0.251434</td>\n",
       "      <td>0.928187</td>\n",
       "      <td>...</td>\n",
       "      <td>-0.008324</td>\n",
       "      <td>0.004938</td>\n",
       "      <td>0.005983</td>\n",
       "      <td>-0.007376</td>\n",
       "      <td>0.003395</td>\n",
       "      <td>0.002255</td>\n",
       "      <td>-0.000099</td>\n",
       "      <td>-0.008925</td>\n",
       "      <td>-0.016839</td>\n",
       "      <td>0.006829</td>\n",
       "    </tr>\n",
       "    <tr>\n",
       "      <th>3</th>\n",
       "      <td>https://www.myntra.com/shapewear/zivame/zivame...</td>\n",
       "      <td>4335679</td>\n",
       "      <td>893.0</td>\n",
       "      <td>1295.0</td>\n",
       "      <td>31% OFF</td>\n",
       "      <td>4.2</td>\n",
       "      <td>999.0</td>\n",
       "      <td>-0.041871</td>\n",
       "      <td>-0.029007</td>\n",
       "      <td>-0.037021</td>\n",
       "      <td>...</td>\n",
       "      <td>0.000105</td>\n",
       "      <td>-0.000096</td>\n",
       "      <td>-0.000237</td>\n",
       "      <td>-0.000880</td>\n",
       "      <td>-0.000004</td>\n",
       "      <td>-0.000051</td>\n",
       "      <td>0.000039</td>\n",
       "      <td>-0.000168</td>\n",
       "      <td>-0.000207</td>\n",
       "      <td>0.000023</td>\n",
       "    </tr>\n",
       "    <tr>\n",
       "      <th>4</th>\n",
       "      <td>https://www.myntra.com/trousers/highlander/hig...</td>\n",
       "      <td>6744434</td>\n",
       "      <td>599.0</td>\n",
       "      <td>1499.0</td>\n",
       "      <td>60% OFF</td>\n",
       "      <td>3.9</td>\n",
       "      <td>998.0</td>\n",
       "      <td>-0.057425</td>\n",
       "      <td>-0.049595</td>\n",
       "      <td>-0.072303</td>\n",
       "      <td>...</td>\n",
       "      <td>-0.004484</td>\n",
       "      <td>0.002819</td>\n",
       "      <td>0.003520</td>\n",
       "      <td>-0.004969</td>\n",
       "      <td>0.022328</td>\n",
       "      <td>0.000744</td>\n",
       "      <td>-0.000408</td>\n",
       "      <td>-0.003202</td>\n",
       "      <td>-0.005973</td>\n",
       "      <td>0.000432</td>\n",
       "    </tr>\n",
       "  </tbody>\n",
       "</table>\n",
       "<p>5 rows × 746 columns</p>\n",
       "</div>"
      ],
      "text/plain": [
       "                                                 URL  Product_id  \\\n",
       "0  https://www.myntra.com/jeans/roadster/roadster...     2296012   \n",
       "1  https://www.myntra.com/track-pants/locomotive/...    13780156   \n",
       "2  https://www.myntra.com/shirts/roadster/roadste...    11895958   \n",
       "3  https://www.myntra.com/shapewear/zivame/zivame...     4335679   \n",
       "4  https://www.myntra.com/trousers/highlander/hig...     6744434   \n",
       "\n",
       "   DiscountPrice  OriginalPrice DiscountOffer  Ratings  Reviews  \\\n",
       "0          824.0         1499.0       45% OFF      3.9    999.0   \n",
       "1          517.0         1149.0       55% OFF      4.0    999.0   \n",
       "2          629.0         1399.0       55% OFF      4.3    999.0   \n",
       "3          893.0         1295.0       31% OFF      4.2    999.0   \n",
       "4          599.0         1499.0       60% OFF      3.9    998.0   \n",
       "\n",
       "   pca_brandname_0  pca_brandname_1  pca_brandname_2  ...    pca_40    pca_41  \\\n",
       "0        -0.099034        -0.251434         0.928187  ... -0.005987  0.003710   \n",
       "1        -0.034719        -0.022047        -0.027000  ... -0.000797  0.000518   \n",
       "2        -0.099034        -0.251434         0.928187  ... -0.008324  0.004938   \n",
       "3        -0.041871        -0.029007        -0.037021  ...  0.000105 -0.000096   \n",
       "4        -0.057425        -0.049595        -0.072303  ... -0.004484  0.002819   \n",
       "\n",
       "     pca_42    pca_43    pca_44    pca_45    pca_46    pca_47    pca_48  \\\n",
       "0  0.004610 -0.005603  0.001344  0.001517 -0.000145 -0.004533 -0.007828   \n",
       "1  0.001002  0.002038 -0.000069  0.000248 -0.000205  0.000724  0.000613   \n",
       "2  0.005983 -0.007376  0.003395  0.002255 -0.000099 -0.008925 -0.016839   \n",
       "3 -0.000237 -0.000880 -0.000004 -0.000051  0.000039 -0.000168 -0.000207   \n",
       "4  0.003520 -0.004969  0.022328  0.000744 -0.000408 -0.003202 -0.005973   \n",
       "\n",
       "     pca_49  \n",
       "0  0.000565  \n",
       "1 -0.000045  \n",
       "2  0.006829  \n",
       "3  0.000023  \n",
       "4  0.000432  \n",
       "\n",
       "[5 rows x 746 columns]"
      ]
     },
     "execution_count": 5,
     "metadata": {},
     "output_type": "execute_result"
    }
   ],
   "source": [
    "path =  './clothes_df_clean_with_outliers.csv'\n",
    "clothes_df_clean_with_outliers = pd.read_csv(path)\n",
    "clothes_df_clean_with_outliers.head()\n",
    "\n"
   ]
  },
  {
   "cell_type": "code",
   "execution_count": 6,
   "id": "11a56633-c5f8-468a-b6c5-7af0efc816b8",
   "metadata": {},
   "outputs": [],
   "source": [
    "# Data type correction\n",
    "clothes_df_clean_with_outliers['DiscountPrice'] = clothes_df_clean_with_outliers['DiscountPrice'].astype(float)\n",
    "clothes_df_clean_with_outliers['OriginalPrice'] = clothes_df_clean_with_outliers['OriginalPrice'].astype(float)\n",
    "clothes_df_clean_with_outliers['Ratings'] = clothes_df_clean_with_outliers['Ratings'].astype(float)\n",
    "clothes_df_clean_with_outliers['Reviews'] = clothes_df_clean_with_outliers['Reviews'].astype(int)\n",
    "\n",
    "\n",
    "# Extract numeric values from DiscountOffer - just incase the split didn't\n",
    "clothes_df_clean_with_outliers['DiscountOffer'] = clothes_df_clean_with_outliers['DiscountOffer'].str.extract('(\\d+)').astype(float)"
   ]
  },
  {
   "cell_type": "markdown",
   "id": "8ad61752-efa4-46bc-97a1-bca400a44f69",
   "metadata": {},
   "source": [
    "## Split the Data"
   ]
  },
  {
   "cell_type": "code",
   "execution_count": 7,
   "id": "80498d4a-7b6d-4578-ac5d-0e57fd025180",
   "metadata": {},
   "outputs": [],
   "source": [
    "# Splitting the data into training and test sets\n",
    "train_data, test_data = train_test_split(clothes_df_clean_with_outliers, test_size=0.2, random_state=42)"
   ]
  },
  {
   "cell_type": "markdown",
   "id": "52d93c4c-550b-47f4-b68d-566b5281ce7e",
   "metadata": {},
   "source": [
    "### Creating the Interactive Matrix for Collaborative Filtering"
   ]
  },
  {
   "cell_type": "code",
   "execution_count": 8,
   "id": "b2fd0fb0-6814-41c7-9753-bad7d1567412",
   "metadata": {},
   "outputs": [],
   "source": [
    "cf_features = ['DiscountPrice', 'OriginalPrice', 'DiscountOffer', 'Ratings', 'Reviews']\n",
    "interaction_matrix = train_data.set_index('Product_id')[cf_features].fillna(0)\n"
   ]
  },
  {
   "cell_type": "code",
   "execution_count": 9,
   "id": "e5c8367e-6a77-4f9f-9aa2-20bcc5d78a50",
   "metadata": {},
   "outputs": [
    {
     "data": {
      "text/html": [
       "<style>#sk-container-id-1 {color: black;}#sk-container-id-1 pre{padding: 0;}#sk-container-id-1 div.sk-toggleable {background-color: white;}#sk-container-id-1 label.sk-toggleable__label {cursor: pointer;display: block;width: 100%;margin-bottom: 0;padding: 0.3em;box-sizing: border-box;text-align: center;}#sk-container-id-1 label.sk-toggleable__label-arrow:before {content: \"▸\";float: left;margin-right: 0.25em;color: #696969;}#sk-container-id-1 label.sk-toggleable__label-arrow:hover:before {color: black;}#sk-container-id-1 div.sk-estimator:hover label.sk-toggleable__label-arrow:before {color: black;}#sk-container-id-1 div.sk-toggleable__content {max-height: 0;max-width: 0;overflow: hidden;text-align: left;background-color: #f0f8ff;}#sk-container-id-1 div.sk-toggleable__content pre {margin: 0.2em;color: black;border-radius: 0.25em;background-color: #f0f8ff;}#sk-container-id-1 input.sk-toggleable__control:checked~div.sk-toggleable__content {max-height: 200px;max-width: 100%;overflow: auto;}#sk-container-id-1 input.sk-toggleable__control:checked~label.sk-toggleable__label-arrow:before {content: \"▾\";}#sk-container-id-1 div.sk-estimator input.sk-toggleable__control:checked~label.sk-toggleable__label {background-color: #d4ebff;}#sk-container-id-1 div.sk-label input.sk-toggleable__control:checked~label.sk-toggleable__label {background-color: #d4ebff;}#sk-container-id-1 input.sk-hidden--visually {border: 0;clip: rect(1px 1px 1px 1px);clip: rect(1px, 1px, 1px, 1px);height: 1px;margin: -1px;overflow: hidden;padding: 0;position: absolute;width: 1px;}#sk-container-id-1 div.sk-estimator {font-family: monospace;background-color: #f0f8ff;border: 1px dotted black;border-radius: 0.25em;box-sizing: border-box;margin-bottom: 0.5em;}#sk-container-id-1 div.sk-estimator:hover {background-color: #d4ebff;}#sk-container-id-1 div.sk-parallel-item::after {content: \"\";width: 100%;border-bottom: 1px solid gray;flex-grow: 1;}#sk-container-id-1 div.sk-label:hover label.sk-toggleable__label {background-color: #d4ebff;}#sk-container-id-1 div.sk-serial::before {content: \"\";position: absolute;border-left: 1px solid gray;box-sizing: border-box;top: 0;bottom: 0;left: 50%;z-index: 0;}#sk-container-id-1 div.sk-serial {display: flex;flex-direction: column;align-items: center;background-color: white;padding-right: 0.2em;padding-left: 0.2em;position: relative;}#sk-container-id-1 div.sk-item {position: relative;z-index: 1;}#sk-container-id-1 div.sk-parallel {display: flex;align-items: stretch;justify-content: center;background-color: white;position: relative;}#sk-container-id-1 div.sk-item::before, #sk-container-id-1 div.sk-parallel-item::before {content: \"\";position: absolute;border-left: 1px solid gray;box-sizing: border-box;top: 0;bottom: 0;left: 50%;z-index: -1;}#sk-container-id-1 div.sk-parallel-item {display: flex;flex-direction: column;z-index: 1;position: relative;background-color: white;}#sk-container-id-1 div.sk-parallel-item:first-child::after {align-self: flex-end;width: 50%;}#sk-container-id-1 div.sk-parallel-item:last-child::after {align-self: flex-start;width: 50%;}#sk-container-id-1 div.sk-parallel-item:only-child::after {width: 0;}#sk-container-id-1 div.sk-dashed-wrapped {border: 1px dashed gray;margin: 0 0.4em 0.5em 0.4em;box-sizing: border-box;padding-bottom: 0.4em;background-color: white;}#sk-container-id-1 div.sk-label label {font-family: monospace;font-weight: bold;display: inline-block;line-height: 1.2em;}#sk-container-id-1 div.sk-label-container {text-align: center;}#sk-container-id-1 div.sk-container {/* jupyter's `normalize.less` sets `[hidden] { display: none; }` but bootstrap.min.css set `[hidden] { display: none !important; }` so we also need the `!important` here to be able to override the default hidden behavior on the sphinx rendered scikit-learn.org. See: https://github.com/scikit-learn/scikit-learn/issues/21755 */display: inline-block !important;position: relative;}#sk-container-id-1 div.sk-text-repr-fallback {display: none;}</style><div id=\"sk-container-id-1\" class=\"sk-top-container\"><div class=\"sk-text-repr-fallback\"><pre>NearestNeighbors(algorithm=&#x27;brute&#x27;, metric=&#x27;cosine&#x27;)</pre><b>In a Jupyter environment, please rerun this cell to show the HTML representation or trust the notebook. <br />On GitHub, the HTML representation is unable to render, please try loading this page with nbviewer.org.</b></div><div class=\"sk-container\" hidden><div class=\"sk-item\"><div class=\"sk-estimator sk-toggleable\"><input class=\"sk-toggleable__control sk-hidden--visually\" id=\"sk-estimator-id-1\" type=\"checkbox\" checked><label for=\"sk-estimator-id-1\" class=\"sk-toggleable__label sk-toggleable__label-arrow\">NearestNeighbors</label><div class=\"sk-toggleable__content\"><pre>NearestNeighbors(algorithm=&#x27;brute&#x27;, metric=&#x27;cosine&#x27;)</pre></div></div></div></div></div>"
      ],
      "text/plain": [
       "NearestNeighbors(algorithm='brute', metric='cosine')"
      ]
     },
     "execution_count": 9,
     "metadata": {},
     "output_type": "execute_result"
    }
   ],
   "source": [
    "# Training the model\n",
    "model_cf = NearestNeighbors(metric='cosine', algorithm='brute')\n",
    "model_cf.fit(interaction_matrix)"
   ]
  },
  {
   "cell_type": "markdown",
   "id": "4ebd7bb5-8792-42dc-91c0-07b338fa099b",
   "metadata": {},
   "source": [
    "## Content Based Similarity"
   ]
  },
  {
   "cell_type": "code",
   "execution_count": 11,
   "id": "b01b75b9-e8af-475a-b60d-93f6267c1ea9",
   "metadata": {},
   "outputs": [],
   "source": [
    "# Identifying CB features\n",
    "non_cb_features = ['Product_id', 'URL', 'DiscountPrice', 'OriginalPrice', 'DiscountOffer', 'Ratings', 'Reviews']\n",
    "cb_features = [col for col in train_data.columns if col not in non_cb_features]\n"
   ]
  },
  {
   "cell_type": "code",
   "execution_count": 10,
   "id": "e30ce3a5-e685-4351-988f-f2180694ed7f",
   "metadata": {},
   "outputs": [],
   "source": [
    "from sklearn.feature_extraction.text import TfidfVectorizer\n",
    "from sklearn.metrics.pairwise import cosine_similarity\n",
    "from scipy.sparse import csr_matrix\n"
   ]
  },
  {
   "cell_type": "code",
   "execution_count": 16,
   "id": "59ece779-ecb6-4eaf-a561-89c98dd9f811",
   "metadata": {},
   "outputs": [
    {
     "ename": "SyntaxError",
     "evalue": "incomplete input (4093759808.py, line 3)",
     "output_type": "error",
     "traceback": [
      "\u001b[1;36m  Cell \u001b[1;32mIn[16], line 3\u001b[1;36m\u001b[0m\n\u001b[1;33m    tfidf_matrix = tfidf_vectorizer.fit_transform(train_data[cb_features]\u001b[0m\n\u001b[1;37m                                                                         ^\u001b[0m\n\u001b[1;31mSyntaxError\u001b[0m\u001b[1;31m:\u001b[0m incomplete input\n"
     ]
    }
   ],
   "source": [
    "\n",
    "# Vectorize the descriptions\n",
    "tfidf_vectorizer = TfidfVectorizer()\n",
    "tfidf_matrix = tfidf_vectorizer.fit_transform(train_data[cb_features"
   ]
  },
  {
   "cell_type": "code",
   "execution_count": 15,
   "id": "4789ac15-aa21-409d-a628-279e3d9861fd",
   "metadata": {},
   "outputs": [
    {
     "ename": "MemoryError",
     "evalue": "Unable to allocate 65.9 GiB for an array with shape (94032, 94032) and data type float64",
     "output_type": "error",
     "traceback": [
      "\u001b[1;31m---------------------------------------------------------------------------\u001b[0m",
      "\u001b[1;31mMemoryError\u001b[0m                               Traceback (most recent call last)",
      "Cell \u001b[1;32mIn[15], line 3\u001b[0m\n\u001b[0;32m      1\u001b[0m \u001b[38;5;66;03m# Create the TF-IDF matrix for CB filtering\u001b[39;00m\n\u001b[0;32m      2\u001b[0m tfidf_matrix \u001b[38;5;241m=\u001b[39m train_data\u001b[38;5;241m.\u001b[39mset_index(\u001b[38;5;124m'\u001b[39m\u001b[38;5;124mProduct_id\u001b[39m\u001b[38;5;124m'\u001b[39m)[cb_features]\u001b[38;5;241m.\u001b[39mfillna(\u001b[38;5;241m0\u001b[39m)\n\u001b[1;32m----> 3\u001b[0m cosine_sim_content \u001b[38;5;241m=\u001b[39m \u001b[43mcosine_similarity\u001b[49m\u001b[43m(\u001b[49m\u001b[43mtfidf_matrix\u001b[49m\u001b[43m,\u001b[49m\u001b[43m \u001b[49m\u001b[43mtfidf_matrix\u001b[49m\u001b[43m)\u001b[49m\n",
      "File \u001b[1;32m~\\AppData\\Local\\Programs\\Python\\Python311\\Lib\\site-packages\\sklearn\\utils\\_param_validation.py:211\u001b[0m, in \u001b[0;36mvalidate_params.<locals>.decorator.<locals>.wrapper\u001b[1;34m(*args, **kwargs)\u001b[0m\n\u001b[0;32m    205\u001b[0m \u001b[38;5;28;01mtry\u001b[39;00m:\n\u001b[0;32m    206\u001b[0m     \u001b[38;5;28;01mwith\u001b[39;00m config_context(\n\u001b[0;32m    207\u001b[0m         skip_parameter_validation\u001b[38;5;241m=\u001b[39m(\n\u001b[0;32m    208\u001b[0m             prefer_skip_nested_validation \u001b[38;5;129;01mor\u001b[39;00m global_skip_validation\n\u001b[0;32m    209\u001b[0m         )\n\u001b[0;32m    210\u001b[0m     ):\n\u001b[1;32m--> 211\u001b[0m         \u001b[38;5;28;01mreturn\u001b[39;00m \u001b[43mfunc\u001b[49m\u001b[43m(\u001b[49m\u001b[38;5;241;43m*\u001b[39;49m\u001b[43margs\u001b[49m\u001b[43m,\u001b[49m\u001b[43m \u001b[49m\u001b[38;5;241;43m*\u001b[39;49m\u001b[38;5;241;43m*\u001b[39;49m\u001b[43mkwargs\u001b[49m\u001b[43m)\u001b[49m\n\u001b[0;32m    212\u001b[0m \u001b[38;5;28;01mexcept\u001b[39;00m InvalidParameterError \u001b[38;5;28;01mas\u001b[39;00m e:\n\u001b[0;32m    213\u001b[0m     \u001b[38;5;66;03m# When the function is just a wrapper around an estimator, we allow\u001b[39;00m\n\u001b[0;32m    214\u001b[0m     \u001b[38;5;66;03m# the function to delegate validation to the estimator, but we replace\u001b[39;00m\n\u001b[0;32m    215\u001b[0m     \u001b[38;5;66;03m# the name of the estimator by the name of the function in the error\u001b[39;00m\n\u001b[0;32m    216\u001b[0m     \u001b[38;5;66;03m# message to avoid confusion.\u001b[39;00m\n\u001b[0;32m    217\u001b[0m     msg \u001b[38;5;241m=\u001b[39m re\u001b[38;5;241m.\u001b[39msub(\n\u001b[0;32m    218\u001b[0m         \u001b[38;5;124mr\u001b[39m\u001b[38;5;124m\"\u001b[39m\u001b[38;5;124mparameter of \u001b[39m\u001b[38;5;124m\\\u001b[39m\u001b[38;5;124mw+ must be\u001b[39m\u001b[38;5;124m\"\u001b[39m,\n\u001b[0;32m    219\u001b[0m         \u001b[38;5;124mf\u001b[39m\u001b[38;5;124m\"\u001b[39m\u001b[38;5;124mparameter of \u001b[39m\u001b[38;5;132;01m{\u001b[39;00mfunc\u001b[38;5;241m.\u001b[39m\u001b[38;5;18m__qualname__\u001b[39m\u001b[38;5;132;01m}\u001b[39;00m\u001b[38;5;124m must be\u001b[39m\u001b[38;5;124m\"\u001b[39m,\n\u001b[0;32m    220\u001b[0m         \u001b[38;5;28mstr\u001b[39m(e),\n\u001b[0;32m    221\u001b[0m     )\n",
      "File \u001b[1;32m~\\AppData\\Local\\Programs\\Python\\Python311\\Lib\\site-packages\\sklearn\\metrics\\pairwise.py:1585\u001b[0m, in \u001b[0;36mcosine_similarity\u001b[1;34m(X, Y, dense_output)\u001b[0m\n\u001b[0;32m   1582\u001b[0m \u001b[38;5;28;01melse\u001b[39;00m:\n\u001b[0;32m   1583\u001b[0m     Y_normalized \u001b[38;5;241m=\u001b[39m normalize(Y, copy\u001b[38;5;241m=\u001b[39m\u001b[38;5;28;01mTrue\u001b[39;00m)\n\u001b[1;32m-> 1585\u001b[0m K \u001b[38;5;241m=\u001b[39m \u001b[43msafe_sparse_dot\u001b[49m\u001b[43m(\u001b[49m\u001b[43mX_normalized\u001b[49m\u001b[43m,\u001b[49m\u001b[43m \u001b[49m\u001b[43mY_normalized\u001b[49m\u001b[38;5;241;43m.\u001b[39;49m\u001b[43mT\u001b[49m\u001b[43m,\u001b[49m\u001b[43m \u001b[49m\u001b[43mdense_output\u001b[49m\u001b[38;5;241;43m=\u001b[39;49m\u001b[43mdense_output\u001b[49m\u001b[43m)\u001b[49m\n\u001b[0;32m   1587\u001b[0m \u001b[38;5;28;01mreturn\u001b[39;00m K\n",
      "File \u001b[1;32m~\\AppData\\Local\\Programs\\Python\\Python311\\Lib\\site-packages\\sklearn\\utils\\extmath.py:193\u001b[0m, in \u001b[0;36msafe_sparse_dot\u001b[1;34m(a, b, dense_output)\u001b[0m\n\u001b[0;32m    191\u001b[0m         ret \u001b[38;5;241m=\u001b[39m np\u001b[38;5;241m.\u001b[39mdot(a, b)\n\u001b[0;32m    192\u001b[0m \u001b[38;5;28;01melse\u001b[39;00m:\n\u001b[1;32m--> 193\u001b[0m     ret \u001b[38;5;241m=\u001b[39m \u001b[43ma\u001b[49m\u001b[43m \u001b[49m\u001b[38;5;241;43m@\u001b[39;49m\u001b[43m \u001b[49m\u001b[43mb\u001b[49m\n\u001b[0;32m    195\u001b[0m \u001b[38;5;28;01mif\u001b[39;00m (\n\u001b[0;32m    196\u001b[0m     sparse\u001b[38;5;241m.\u001b[39missparse(a)\n\u001b[0;32m    197\u001b[0m     \u001b[38;5;129;01mand\u001b[39;00m sparse\u001b[38;5;241m.\u001b[39missparse(b)\n\u001b[0;32m    198\u001b[0m     \u001b[38;5;129;01mand\u001b[39;00m dense_output\n\u001b[0;32m    199\u001b[0m     \u001b[38;5;129;01mand\u001b[39;00m \u001b[38;5;28mhasattr\u001b[39m(ret, \u001b[38;5;124m\"\u001b[39m\u001b[38;5;124mtoarray\u001b[39m\u001b[38;5;124m\"\u001b[39m)\n\u001b[0;32m    200\u001b[0m ):\n\u001b[0;32m    201\u001b[0m     \u001b[38;5;28;01mreturn\u001b[39;00m ret\u001b[38;5;241m.\u001b[39mtoarray()\n",
      "\u001b[1;31mMemoryError\u001b[0m: Unable to allocate 65.9 GiB for an array with shape (94032, 94032) and data type float64"
     ]
    }
   ],
   "source": [
    "MemoryError: Unable to allocate 65.9 GiB for an array with shape (94032, 94032) and data type float64\n",
    "# Identifying CB features\n",
    "non_cb_features = ['Product_id', 'URL', 'DiscountPrice', 'OriginalPrice', 'DiscountOffer', 'Ratings', 'Reviews']\n",
    "cb_features = [col for col in train_data.columns if col not in non_cb_features]\n",
    "\n",
    "# Create the TF-IDF matrix for CB filtering\n",
    "tfidf_matrix = train_data.set_index('Product_id')[cb_features].fillna(0)\n",
    "cosine_sim_content = cosine_similarity(tfidf_matrix, tfidf_matrix) "
   ]
  },
  {
   "cell_type": "code",
   "execution_count": null,
   "id": "ad8b9146-7fd7-4fdc-a4d5-774ff2975f1a",
   "metadata": {},
   "outputs": [],
   "source": [
    "## new approach"
   ]
  },
  {
   "cell_type": "code",
   "execution_count": 24,
   "id": "987bd500-2e82-4c92-bf3a-594efdea177e",
   "metadata": {},
   "outputs": [],
   "source": [
    "from sklearn.feature_extraction.text import TfidfTransformer\n",
    "from sklearn.metrics.pairwise import cosine_similarity\n",
    "from sklearn.neighbors import NearestNeighbors\n",
    "from scipy.sparse import csr_matrix\n"
   ]
  },
  {
   "cell_type": "code",
   "execution_count": 25,
   "id": "c43428d8-ff0b-4046-a956-ced5f5fc82e0",
   "metadata": {},
   "outputs": [],
   "source": [
    "# train_data' is our dataframe and 'cb_features' are the columns to be used\n",
    "non_cb_features = ['Product_id', 'URL', 'DiscountPrice', 'OriginalPrice', 'DiscountOffer', 'Ratings', 'Reviews']\n",
    "cb_features = [col for col in train_data.columns if col not in non_cb_features]\n"
   ]
  },
  {
   "cell_type": "code",
   "execution_count": 27,
   "id": "b6dc8b57-efae-48b8-a78c-0dbacbed2baa",
   "metadata": {},
   "outputs": [],
   "source": [
    "\n",
    "# Create the TF-IDF matrix for CB filtering\n",
    "tfidf_matrix = train_data.set_index('Product_id')[cb_features].fillna(0)\n",
    "\n",
    "# Transform to a sparse matrix\n",
    "tfidf_sparse = csr_matrix(tfidf_matrix)"
   ]
  },
  {
   "cell_type": "code",
   "execution_count": 28,
   "id": "43c2b58d-65b6-4e52-bf39-1b202b9d3f4d",
   "metadata": {},
   "outputs": [
    {
     "data": {
      "text/plain": [
       "<94032x739 sparse matrix of type '<class 'numpy.float64'>'\n",
       "\twith 19419874 stored elements in Compressed Sparse Row format>"
      ]
     },
     "execution_count": 28,
     "metadata": {},
     "output_type": "execute_result"
    }
   ],
   "source": [
    "tfidf_sparse"
   ]
  },
  {
   "cell_type": "code",
   "execution_count": 29,
   "id": "5d24bb75-8e28-43da-b75b-a1b13fa9ca7d",
   "metadata": {},
   "outputs": [
    {
     "data": {
      "text/html": [
       "<style>#sk-container-id-4 {color: black;}#sk-container-id-4 pre{padding: 0;}#sk-container-id-4 div.sk-toggleable {background-color: white;}#sk-container-id-4 label.sk-toggleable__label {cursor: pointer;display: block;width: 100%;margin-bottom: 0;padding: 0.3em;box-sizing: border-box;text-align: center;}#sk-container-id-4 label.sk-toggleable__label-arrow:before {content: \"▸\";float: left;margin-right: 0.25em;color: #696969;}#sk-container-id-4 label.sk-toggleable__label-arrow:hover:before {color: black;}#sk-container-id-4 div.sk-estimator:hover label.sk-toggleable__label-arrow:before {color: black;}#sk-container-id-4 div.sk-toggleable__content {max-height: 0;max-width: 0;overflow: hidden;text-align: left;background-color: #f0f8ff;}#sk-container-id-4 div.sk-toggleable__content pre {margin: 0.2em;color: black;border-radius: 0.25em;background-color: #f0f8ff;}#sk-container-id-4 input.sk-toggleable__control:checked~div.sk-toggleable__content {max-height: 200px;max-width: 100%;overflow: auto;}#sk-container-id-4 input.sk-toggleable__control:checked~label.sk-toggleable__label-arrow:before {content: \"▾\";}#sk-container-id-4 div.sk-estimator input.sk-toggleable__control:checked~label.sk-toggleable__label {background-color: #d4ebff;}#sk-container-id-4 div.sk-label input.sk-toggleable__control:checked~label.sk-toggleable__label {background-color: #d4ebff;}#sk-container-id-4 input.sk-hidden--visually {border: 0;clip: rect(1px 1px 1px 1px);clip: rect(1px, 1px, 1px, 1px);height: 1px;margin: -1px;overflow: hidden;padding: 0;position: absolute;width: 1px;}#sk-container-id-4 div.sk-estimator {font-family: monospace;background-color: #f0f8ff;border: 1px dotted black;border-radius: 0.25em;box-sizing: border-box;margin-bottom: 0.5em;}#sk-container-id-4 div.sk-estimator:hover {background-color: #d4ebff;}#sk-container-id-4 div.sk-parallel-item::after {content: \"\";width: 100%;border-bottom: 1px solid gray;flex-grow: 1;}#sk-container-id-4 div.sk-label:hover label.sk-toggleable__label {background-color: #d4ebff;}#sk-container-id-4 div.sk-serial::before {content: \"\";position: absolute;border-left: 1px solid gray;box-sizing: border-box;top: 0;bottom: 0;left: 50%;z-index: 0;}#sk-container-id-4 div.sk-serial {display: flex;flex-direction: column;align-items: center;background-color: white;padding-right: 0.2em;padding-left: 0.2em;position: relative;}#sk-container-id-4 div.sk-item {position: relative;z-index: 1;}#sk-container-id-4 div.sk-parallel {display: flex;align-items: stretch;justify-content: center;background-color: white;position: relative;}#sk-container-id-4 div.sk-item::before, #sk-container-id-4 div.sk-parallel-item::before {content: \"\";position: absolute;border-left: 1px solid gray;box-sizing: border-box;top: 0;bottom: 0;left: 50%;z-index: -1;}#sk-container-id-4 div.sk-parallel-item {display: flex;flex-direction: column;z-index: 1;position: relative;background-color: white;}#sk-container-id-4 div.sk-parallel-item:first-child::after {align-self: flex-end;width: 50%;}#sk-container-id-4 div.sk-parallel-item:last-child::after {align-self: flex-start;width: 50%;}#sk-container-id-4 div.sk-parallel-item:only-child::after {width: 0;}#sk-container-id-4 div.sk-dashed-wrapped {border: 1px dashed gray;margin: 0 0.4em 0.5em 0.4em;box-sizing: border-box;padding-bottom: 0.4em;background-color: white;}#sk-container-id-4 div.sk-label label {font-family: monospace;font-weight: bold;display: inline-block;line-height: 1.2em;}#sk-container-id-4 div.sk-label-container {text-align: center;}#sk-container-id-4 div.sk-container {/* jupyter's `normalize.less` sets `[hidden] { display: none; }` but bootstrap.min.css set `[hidden] { display: none !important; }` so we also need the `!important` here to be able to override the default hidden behavior on the sphinx rendered scikit-learn.org. See: https://github.com/scikit-learn/scikit-learn/issues/21755 */display: inline-block !important;position: relative;}#sk-container-id-4 div.sk-text-repr-fallback {display: none;}</style><div id=\"sk-container-id-4\" class=\"sk-top-container\"><div class=\"sk-text-repr-fallback\"><pre>NearestNeighbors(algorithm=&#x27;brute&#x27;, metric=&#x27;cosine&#x27;)</pre><b>In a Jupyter environment, please rerun this cell to show the HTML representation or trust the notebook. <br />On GitHub, the HTML representation is unable to render, please try loading this page with nbviewer.org.</b></div><div class=\"sk-container\" hidden><div class=\"sk-item\"><div class=\"sk-estimator sk-toggleable\"><input class=\"sk-toggleable__control sk-hidden--visually\" id=\"sk-estimator-id-4\" type=\"checkbox\" checked><label for=\"sk-estimator-id-4\" class=\"sk-toggleable__label sk-toggleable__label-arrow\">NearestNeighbors</label><div class=\"sk-toggleable__content\"><pre>NearestNeighbors(algorithm=&#x27;brute&#x27;, metric=&#x27;cosine&#x27;)</pre></div></div></div></div></div>"
      ],
      "text/plain": [
       "NearestNeighbors(algorithm='brute', metric='cosine')"
      ]
     },
     "execution_count": 29,
     "metadata": {},
     "output_type": "execute_result"
    }
   ],
   "source": [
    "# Use NearestNeighbors for approximate nearest neighbors\n",
    "nn = NearestNeighbors(metric='cosine', algorithm='brute')\n",
    "nn.fit(tfidf_sparse)"
   ]
  },
  {
   "cell_type": "code",
   "execution_count": 41,
   "id": "8c101b76-d6a2-4859-b420-535e2216a000",
   "metadata": {},
   "outputs": [],
   "source": [
    "# Calculate cosine similarity for CF\n",
    "#cosine_sim_cf = cosine_similarity(interaction_matrix)"
   ]
  },
  {
   "cell_type": "code",
   "execution_count": 30,
   "id": "9834db44-e562-454e-ac67-d6b02189cfd9",
   "metadata": {},
   "outputs": [
    {
     "name": "stdout",
     "output_type": "stream",
     "text": [
      "Distances:  [[0.         0.0103871  0.01051003 0.01057203 0.01147711 0.01205048\n",
      "  0.01207172 0.01212623 0.01214207 0.01214939]]\n",
      "Indices:  [[    0 77829 33100 54818   455 71683 60400 54884 26825 85165]]\n"
     ]
    }
   ],
   "source": [
    "# Get distances and indices of nearest neighbors for a sample item\n",
    "distances, indices = nn.kneighbors(tfidf_sparse[0], n_neighbors=10)\n",
    "\n",
    "# Print the results for the first item\n",
    "print(\"Distances: \", distances)\n",
    "print(\"Indices: \", indices)"
   ]
  },
  {
   "cell_type": "code",
   "execution_count": 31,
   "id": "d1f4f1d5-a395-4bfd-9587-8fd55fe6c7fa",
   "metadata": {},
   "outputs": [],
   "source": [
    "def get_recommendations(item_index, model, data, n_neighbors=10):\n",
    "    distances, indices = model.kneighbors(data[item_index], n_neighbors=n_neighbors)\n",
    "    return indices.flatten(), distances.flatten() \n"
   ]
  },
  {
   "cell_type": "code",
   "execution_count": 42,
   "id": "867c407e-768f-4e0d-8791-067de1f63126",
   "metadata": {},
   "outputs": [
    {
     "name": "stdout",
     "output_type": "stream",
     "text": [
      "Recommended indices: [    0 77829 33100 54818   455 71683 60400 54884 26825 85165]\n",
      "Recommended distances: [0.         0.0103871  0.01051003 0.01057203 0.01147711 0.01205048\n",
      " 0.01207172 0.01212623 0.01214207 0.01214939]\n"
     ]
    }
   ],
   "source": [
    "# Example usage for the first item\n",
    "item_index = 0\n",
    "recommended_indices, recommended_distances = get_recommendations(item_index, nn, tfidf_sparse)\n",
    "print(\"Recommended indices:\", recommended_indices)\n",
    "print(\"Recommended distances:\", recommended_distances) "
   ]
  },
  {
   "cell_type": "code",
   "execution_count": 33,
   "id": "dea48ecb-4421-440f-8443-e10bee932e1c",
   "metadata": {},
   "outputs": [],
   "source": [
    "recommendations = {}\n",
    "\n",
    "for idx in range(tfidf_sparse.shape[0]):\n",
    "    recommended_indices, _ = get_recommendations(idx, nn, tfidf_sparse)\n",
    "    recommendations[idx] = recommended_indices[1:]  # Exclude the item itself\n"
   ]
  },
  {
   "cell_type": "code",
   "execution_count": 45,
   "id": "c3b1b970-53f2-437a-b44e-09268fa2c8b7",
   "metadata": {},
   "outputs": [
    {
     "name": "stdout",
     "output_type": "stream",
     "text": [
      "Recommendations for item 0: [22573 56140 52266  1621  2397     6 54815  1633 77508]\n"
     ]
    }
   ],
   "source": [
    "# Example: Recommendations for the first item\n",
    "print(\"Recommendations for item 0:\", recommendations[30810 ])"
   ]
  },
  {
   "cell_type": "code",
   "execution_count": 35,
   "id": "b3bdaa19-ca50-416c-8b78-3d83b5737ed7",
   "metadata": {},
   "outputs": [],
   "source": [
    "import pickle\n"
   ]
  },
  {
   "cell_type": "code",
   "execution_count": 1,
   "id": "9542beab-f6e2-4a6a-8537-05f7d0d4d49e",
   "metadata": {},
   "outputs": [
    {
     "ename": "NameError",
     "evalue": "name 'pickle' is not defined",
     "output_type": "error",
     "traceback": [
      "\u001b[1;31m---------------------------------------------------------------------------\u001b[0m",
      "\u001b[1;31mNameError\u001b[0m                                 Traceback (most recent call last)",
      "Cell \u001b[1;32mIn[1], line 3\u001b[0m\n\u001b[0;32m      1\u001b[0m \u001b[38;5;66;03m# Save the recommendations dictionary to a file\u001b[39;00m\n\u001b[0;32m      2\u001b[0m \u001b[38;5;28;01mwith\u001b[39;00m \u001b[38;5;28mopen\u001b[39m(\u001b[38;5;124m'\u001b[39m\u001b[38;5;124mrecommendations.pkl\u001b[39m\u001b[38;5;124m'\u001b[39m, \u001b[38;5;124m'\u001b[39m\u001b[38;5;124mwb\u001b[39m\u001b[38;5;124m'\u001b[39m) \u001b[38;5;28;01mas\u001b[39;00m f:\n\u001b[1;32m----> 3\u001b[0m     \u001b[43mpickle\u001b[49m\u001b[38;5;241m.\u001b[39mdump(recommendations, f)\n\u001b[0;32m      5\u001b[0m \u001b[38;5;28mprint\u001b[39m(\u001b[38;5;124m\"\u001b[39m\u001b[38;5;124mRecommendations saved successfully.\u001b[39m\u001b[38;5;124m\"\u001b[39m)\n",
      "\u001b[1;31mNameError\u001b[0m: name 'pickle' is not defined"
     ]
    }
   ],
   "source": [
    "# Save the recommendations dictionary to a file\n",
    "with open('recommendations.pkl', 'wb') as f:\n",
    "    pickle.dump(recommendations, f)\n",
    "\n",
    "print(\"Recommendations saved successfully.\")\n"
   ]
  },
  {
   "cell_type": "code",
   "execution_count": null,
   "id": "a4bc32e0-f07d-4b4a-a077-f318de469d11",
   "metadata": {},
   "outputs": [],
   "source": []
  }
 ],
 "metadata": {
  "kernelspec": {
   "display_name": "Python 3 (ipykernel)",
   "language": "python",
   "name": "python3"
  },
  "language_info": {
   "codemirror_mode": {
    "name": "ipython",
    "version": 3
   },
   "file_extension": ".py",
   "mimetype": "text/x-python",
   "name": "python",
   "nbconvert_exporter": "python",
   "pygments_lexer": "ipython3",
   "version": "3.11.5"
  }
 },
 "nbformat": 4,
 "nbformat_minor": 5
}
