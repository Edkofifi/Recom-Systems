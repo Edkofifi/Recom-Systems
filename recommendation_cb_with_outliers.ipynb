{
 "cells": [
  {
   "cell_type": "markdown",
   "id": "9a669a19-9511-42a5-97b7-93426b1f4a51",
   "metadata": {},
   "source": [
    "### Training the Recommender System with Outliers (as in the Dataset)"
   ]
  },
  {
   "cell_type": "markdown",
   "id": "ba0e715c-a95d-4136-bb4b-f82807af8fc2",
   "metadata": {},
   "source": [
    "#### Approach: Content Based Filtering: Use of features directly related to the products.\n",
    "#### Model Used: NearestNeighbour\n"
   ]
  },
  {
   "cell_type": "markdown",
   "id": "a6c8ae97-acd5-4335-a59c-fe1b378d5949",
   "metadata": {},
   "source": [
    "Features Used:\n",
    "- BrandName \n",
    "- Category\n",
    "- Individual_category \n",
    "- DiscountPrice\n",
    "- OriginalPrice\n",
    "- DiscountOffer\n",
    "\n",
    "Remarks: \n",
    "1. All categorical features were one-hot encoded, with PCA dimensionality reduction applied.\n",
    "2. No outliers were removed for this training, though they exist in each of the numerical features."
   ]
  },
  {
   "cell_type": "markdown",
   "id": "0f49331c-011e-4591-950b-2539ad8596f1",
   "metadata": {},
   "source": [
    "### Importing the necessary libraries"
   ]
  },
  {
   "cell_type": "code",
   "execution_count": 2,
   "id": "c67d08a2-0bc7-4e62-bbd0-65e49c555d9d",
   "metadata": {},
   "outputs": [],
   "source": [
    "import pandas as pd\n",
    "from sklearn.feature_extraction.text import TfidfVectorizer\n",
    "from sklearn.model_selection import train_test_split\n",
    "from sklearn.neighbors import NearestNeighbors  \n",
    "from scipy.sparse import csr_matrix"
   ]
  },
  {
   "cell_type": "markdown",
   "id": "7da50c31-efa6-4881-b822-32b50359c380",
   "metadata": {},
   "source": [
    "#### Load the dataset"
   ]
  },
  {
   "cell_type": "code",
   "execution_count": 3,
   "id": "5196500e-6d28-4aef-af6a-d78ad90f9425",
   "metadata": {},
   "outputs": [
    {
     "data": {
      "text/html": [
       "<div>\n",
       "<style scoped>\n",
       "    .dataframe tbody tr th:only-of-type {\n",
       "        vertical-align: middle;\n",
       "    }\n",
       "\n",
       "    .dataframe tbody tr th {\n",
       "        vertical-align: top;\n",
       "    }\n",
       "\n",
       "    .dataframe thead th {\n",
       "        text-align: right;\n",
       "    }\n",
       "</style>\n",
       "<table border=\"1\" class=\"dataframe\">\n",
       "  <thead>\n",
       "    <tr style=\"text-align: right;\">\n",
       "      <th></th>\n",
       "      <th>URL</th>\n",
       "      <th>Product_id</th>\n",
       "      <th>Description</th>\n",
       "      <th>DiscountPrice</th>\n",
       "      <th>OriginalPrice</th>\n",
       "      <th>DiscountOffer</th>\n",
       "      <th>SizeOption</th>\n",
       "      <th>Ratings</th>\n",
       "      <th>Reviews</th>\n",
       "      <th>product_name</th>\n",
       "      <th>...</th>\n",
       "      <th>pca_individual_category_18</th>\n",
       "      <th>pca_individual_category_19</th>\n",
       "      <th>Category_Indian Wear</th>\n",
       "      <th>Category_Inner Wear &amp;  Sleep Wear</th>\n",
       "      <th>Category_Lingerie &amp; Sleep Wear</th>\n",
       "      <th>Category_Plus Size</th>\n",
       "      <th>Category_Sports Wear</th>\n",
       "      <th>Category_Topwear</th>\n",
       "      <th>Category_Western</th>\n",
       "      <th>category_by_Gender_Women</th>\n",
       "    </tr>\n",
       "  </thead>\n",
       "  <tbody>\n",
       "    <tr>\n",
       "      <th>0</th>\n",
       "      <td>https://www.myntra.com/jeans/roadster/roadster...</td>\n",
       "      <td>2296012</td>\n",
       "      <td>roadster men navy blue slim fit mid rise clean...</td>\n",
       "      <td>824.0</td>\n",
       "      <td>1499.0</td>\n",
       "      <td>45% OFF</td>\n",
       "      <td>28, 30, 32, 34, 36</td>\n",
       "      <td>3.9</td>\n",
       "      <td>999.0</td>\n",
       "      <td>roadster-men-navy-blue-slim-fit-mid-rise-clean...</td>\n",
       "      <td>...</td>\n",
       "      <td>-0.005001</td>\n",
       "      <td>-0.004482</td>\n",
       "      <td>0.0</td>\n",
       "      <td>0.0</td>\n",
       "      <td>0.0</td>\n",
       "      <td>0.0</td>\n",
       "      <td>0.0</td>\n",
       "      <td>0.0</td>\n",
       "      <td>0.0</td>\n",
       "      <td>0.0</td>\n",
       "    </tr>\n",
       "    <tr>\n",
       "      <th>1</th>\n",
       "      <td>https://www.myntra.com/track-pants/locomotive/...</td>\n",
       "      <td>13780156</td>\n",
       "      <td>locomotive men black  white solid slim fit tra...</td>\n",
       "      <td>517.0</td>\n",
       "      <td>1149.0</td>\n",
       "      <td>55% OFF</td>\n",
       "      <td>S, M, L, XL</td>\n",
       "      <td>4.0</td>\n",
       "      <td>999.0</td>\n",
       "      <td>locomotive-men-black--white-solid-slim-fit-tra...</td>\n",
       "      <td>...</td>\n",
       "      <td>-0.008943</td>\n",
       "      <td>-0.007922</td>\n",
       "      <td>0.0</td>\n",
       "      <td>0.0</td>\n",
       "      <td>0.0</td>\n",
       "      <td>0.0</td>\n",
       "      <td>0.0</td>\n",
       "      <td>0.0</td>\n",
       "      <td>0.0</td>\n",
       "      <td>0.0</td>\n",
       "    </tr>\n",
       "    <tr>\n",
       "      <th>2</th>\n",
       "      <td>https://www.myntra.com/shirts/roadster/roadste...</td>\n",
       "      <td>11895958</td>\n",
       "      <td>roadster men navy white  black geometric print...</td>\n",
       "      <td>629.0</td>\n",
       "      <td>1399.0</td>\n",
       "      <td>55% OFF</td>\n",
       "      <td>38, 40, 42, 44, 46, 48</td>\n",
       "      <td>4.3</td>\n",
       "      <td>999.0</td>\n",
       "      <td>roadster-men-navy-white--black-geometric-print...</td>\n",
       "      <td>...</td>\n",
       "      <td>-0.005118</td>\n",
       "      <td>-0.004585</td>\n",
       "      <td>0.0</td>\n",
       "      <td>0.0</td>\n",
       "      <td>0.0</td>\n",
       "      <td>0.0</td>\n",
       "      <td>0.0</td>\n",
       "      <td>1.0</td>\n",
       "      <td>0.0</td>\n",
       "      <td>0.0</td>\n",
       "    </tr>\n",
       "    <tr>\n",
       "      <th>3</th>\n",
       "      <td>https://www.myntra.com/shapewear/zivame/zivame...</td>\n",
       "      <td>4335679</td>\n",
       "      <td>zivame women black saree shapewear zi3023core0...</td>\n",
       "      <td>893.0</td>\n",
       "      <td>1295.0</td>\n",
       "      <td>31% OFF</td>\n",
       "      <td>S, M, L, XL, XXL</td>\n",
       "      <td>4.2</td>\n",
       "      <td>999.0</td>\n",
       "      <td>zivame-women-black-saree-shapewear-zi3023core0...</td>\n",
       "      <td>...</td>\n",
       "      <td>0.041040</td>\n",
       "      <td>0.048508</td>\n",
       "      <td>0.0</td>\n",
       "      <td>0.0</td>\n",
       "      <td>1.0</td>\n",
       "      <td>0.0</td>\n",
       "      <td>0.0</td>\n",
       "      <td>0.0</td>\n",
       "      <td>0.0</td>\n",
       "      <td>1.0</td>\n",
       "    </tr>\n",
       "    <tr>\n",
       "      <th>4</th>\n",
       "      <td>https://www.myntra.com/trousers/highlander/hig...</td>\n",
       "      <td>6744434</td>\n",
       "      <td>highlander men olive green slim fit solid regu...</td>\n",
       "      <td>599.0</td>\n",
       "      <td>1499.0</td>\n",
       "      <td>60% OFF</td>\n",
       "      <td>30, 32, 34, 36</td>\n",
       "      <td>3.9</td>\n",
       "      <td>998.0</td>\n",
       "      <td>highlander-men-olive-green-slim-fit-solid-regu...</td>\n",
       "      <td>...</td>\n",
       "      <td>-0.007880</td>\n",
       "      <td>-0.007002</td>\n",
       "      <td>0.0</td>\n",
       "      <td>0.0</td>\n",
       "      <td>0.0</td>\n",
       "      <td>0.0</td>\n",
       "      <td>0.0</td>\n",
       "      <td>0.0</td>\n",
       "      <td>0.0</td>\n",
       "      <td>0.0</td>\n",
       "    </tr>\n",
       "    <tr>\n",
       "      <th>...</th>\n",
       "      <td>...</td>\n",
       "      <td>...</td>\n",
       "      <td>...</td>\n",
       "      <td>...</td>\n",
       "      <td>...</td>\n",
       "      <td>...</td>\n",
       "      <td>...</td>\n",
       "      <td>...</td>\n",
       "      <td>...</td>\n",
       "      <td>...</td>\n",
       "      <td>...</td>\n",
       "      <td>...</td>\n",
       "      <td>...</td>\n",
       "      <td>...</td>\n",
       "      <td>...</td>\n",
       "      <td>...</td>\n",
       "      <td>...</td>\n",
       "      <td>...</td>\n",
       "      <td>...</td>\n",
       "      <td>...</td>\n",
       "      <td>...</td>\n",
       "    </tr>\n",
       "    <tr>\n",
       "      <th>117536</th>\n",
       "      <td>https://www.myntra.com/tshirts/hrx-by-hrithik-...</td>\n",
       "      <td>8379269</td>\n",
       "      <td>hrx by hrithik roshan women navy blue nautical...</td>\n",
       "      <td>404.0</td>\n",
       "      <td>899.0</td>\n",
       "      <td>55% OFF</td>\n",
       "      <td>XS, S, M, L, XL</td>\n",
       "      <td>4.4</td>\n",
       "      <td>0.0</td>\n",
       "      <td>hrx-by-hrithik-roshan-women-navy-blue-nautical...</td>\n",
       "      <td>...</td>\n",
       "      <td>-0.003031</td>\n",
       "      <td>-0.002733</td>\n",
       "      <td>0.0</td>\n",
       "      <td>0.0</td>\n",
       "      <td>0.0</td>\n",
       "      <td>0.0</td>\n",
       "      <td>1.0</td>\n",
       "      <td>0.0</td>\n",
       "      <td>0.0</td>\n",
       "      <td>1.0</td>\n",
       "    </tr>\n",
       "    <tr>\n",
       "      <th>117537</th>\n",
       "      <td>https://www.myntra.com/track-pants/stylestone/...</td>\n",
       "      <td>12767048</td>\n",
       "      <td>stylestone women black solid track pants</td>\n",
       "      <td>467.0</td>\n",
       "      <td>899.0</td>\n",
       "      <td>48% OFF</td>\n",
       "      <td>S, M, L, XL</td>\n",
       "      <td>4.2</td>\n",
       "      <td>0.0</td>\n",
       "      <td>stylestone-women-black-solid-track-pants</td>\n",
       "      <td>...</td>\n",
       "      <td>-0.008943</td>\n",
       "      <td>-0.007922</td>\n",
       "      <td>0.0</td>\n",
       "      <td>0.0</td>\n",
       "      <td>0.0</td>\n",
       "      <td>0.0</td>\n",
       "      <td>1.0</td>\n",
       "      <td>0.0</td>\n",
       "      <td>0.0</td>\n",
       "      <td>1.0</td>\n",
       "    </tr>\n",
       "    <tr>\n",
       "      <th>117538</th>\n",
       "      <td>https://www.myntra.com/tshirts/hrx-by-hrithik-...</td>\n",
       "      <td>10106141</td>\n",
       "      <td>hrx by hrithik roshan women black  green print...</td>\n",
       "      <td>404.0</td>\n",
       "      <td>899.0</td>\n",
       "      <td>55% OFF</td>\n",
       "      <td>S/M, L/XL</td>\n",
       "      <td>4.4</td>\n",
       "      <td>0.0</td>\n",
       "      <td>hrx-by-hrithik-roshan-women-black--green-print...</td>\n",
       "      <td>...</td>\n",
       "      <td>-0.003031</td>\n",
       "      <td>-0.002733</td>\n",
       "      <td>0.0</td>\n",
       "      <td>0.0</td>\n",
       "      <td>0.0</td>\n",
       "      <td>0.0</td>\n",
       "      <td>1.0</td>\n",
       "      <td>0.0</td>\n",
       "      <td>0.0</td>\n",
       "      <td>1.0</td>\n",
       "    </tr>\n",
       "    <tr>\n",
       "      <th>117539</th>\n",
       "      <td>https://www.myntra.com/tshirts/hrx-by-hrithik-...</td>\n",
       "      <td>11640324</td>\n",
       "      <td>hrx by hrithik roshan women north sea printed ...</td>\n",
       "      <td>494.0</td>\n",
       "      <td>899.0</td>\n",
       "      <td>45% OFF</td>\n",
       "      <td>XS, S, M, L, XL</td>\n",
       "      <td>4.4</td>\n",
       "      <td>0.0</td>\n",
       "      <td>hrx-by-hrithik-roshan-women-north-sea-printed-...</td>\n",
       "      <td>...</td>\n",
       "      <td>-0.003031</td>\n",
       "      <td>-0.002733</td>\n",
       "      <td>0.0</td>\n",
       "      <td>0.0</td>\n",
       "      <td>0.0</td>\n",
       "      <td>0.0</td>\n",
       "      <td>1.0</td>\n",
       "      <td>0.0</td>\n",
       "      <td>0.0</td>\n",
       "      <td>1.0</td>\n",
       "    </tr>\n",
       "    <tr>\n",
       "      <th>117540</th>\n",
       "      <td>https://www.myntra.com/tshirts/hrx-by-hrithik-...</td>\n",
       "      <td>11639956</td>\n",
       "      <td>hrx by hrithik roshan green printed rapid dry ...</td>\n",
       "      <td>494.0</td>\n",
       "      <td>899.0</td>\n",
       "      <td>45% OFF</td>\n",
       "      <td>XS, S, M, L, XL</td>\n",
       "      <td>4.5</td>\n",
       "      <td>0.0</td>\n",
       "      <td>hrx-by-hrithik-roshan-green-printed-rapid-dry-...</td>\n",
       "      <td>...</td>\n",
       "      <td>-0.003031</td>\n",
       "      <td>-0.002733</td>\n",
       "      <td>0.0</td>\n",
       "      <td>0.0</td>\n",
       "      <td>0.0</td>\n",
       "      <td>0.0</td>\n",
       "      <td>1.0</td>\n",
       "      <td>0.0</td>\n",
       "      <td>0.0</td>\n",
       "      <td>1.0</td>\n",
       "    </tr>\n",
       "  </tbody>\n",
       "</table>\n",
       "<p>117541 rows × 58 columns</p>\n",
       "</div>"
      ],
      "text/plain": [
       "                                                      URL  Product_id  \\\n",
       "0       https://www.myntra.com/jeans/roadster/roadster...     2296012   \n",
       "1       https://www.myntra.com/track-pants/locomotive/...    13780156   \n",
       "2       https://www.myntra.com/shirts/roadster/roadste...    11895958   \n",
       "3       https://www.myntra.com/shapewear/zivame/zivame...     4335679   \n",
       "4       https://www.myntra.com/trousers/highlander/hig...     6744434   \n",
       "...                                                   ...         ...   \n",
       "117536  https://www.myntra.com/tshirts/hrx-by-hrithik-...     8379269   \n",
       "117537  https://www.myntra.com/track-pants/stylestone/...    12767048   \n",
       "117538  https://www.myntra.com/tshirts/hrx-by-hrithik-...    10106141   \n",
       "117539  https://www.myntra.com/tshirts/hrx-by-hrithik-...    11640324   \n",
       "117540  https://www.myntra.com/tshirts/hrx-by-hrithik-...    11639956   \n",
       "\n",
       "                                              Description  DiscountPrice  \\\n",
       "0       roadster men navy blue slim fit mid rise clean...          824.0   \n",
       "1       locomotive men black  white solid slim fit tra...          517.0   \n",
       "2       roadster men navy white  black geometric print...          629.0   \n",
       "3       zivame women black saree shapewear zi3023core0...          893.0   \n",
       "4       highlander men olive green slim fit solid regu...          599.0   \n",
       "...                                                   ...            ...   \n",
       "117536  hrx by hrithik roshan women navy blue nautical...          404.0   \n",
       "117537           stylestone women black solid track pants          467.0   \n",
       "117538  hrx by hrithik roshan women black  green print...          404.0   \n",
       "117539  hrx by hrithik roshan women north sea printed ...          494.0   \n",
       "117540  hrx by hrithik roshan green printed rapid dry ...          494.0   \n",
       "\n",
       "        OriginalPrice DiscountOffer              SizeOption  Ratings  Reviews  \\\n",
       "0              1499.0       45% OFF      28, 30, 32, 34, 36      3.9    999.0   \n",
       "1              1149.0       55% OFF             S, M, L, XL      4.0    999.0   \n",
       "2              1399.0       55% OFF  38, 40, 42, 44, 46, 48      4.3    999.0   \n",
       "3              1295.0       31% OFF        S, M, L, XL, XXL      4.2    999.0   \n",
       "4              1499.0       60% OFF          30, 32, 34, 36      3.9    998.0   \n",
       "...               ...           ...                     ...      ...      ...   \n",
       "117536          899.0       55% OFF         XS, S, M, L, XL      4.4      0.0   \n",
       "117537          899.0       48% OFF             S, M, L, XL      4.2      0.0   \n",
       "117538          899.0       55% OFF               S/M, L/XL      4.4      0.0   \n",
       "117539          899.0       45% OFF         XS, S, M, L, XL      4.4      0.0   \n",
       "117540          899.0       45% OFF         XS, S, M, L, XL      4.5      0.0   \n",
       "\n",
       "                                             product_name  ...  \\\n",
       "0       roadster-men-navy-blue-slim-fit-mid-rise-clean...  ...   \n",
       "1       locomotive-men-black--white-solid-slim-fit-tra...  ...   \n",
       "2       roadster-men-navy-white--black-geometric-print...  ...   \n",
       "3       zivame-women-black-saree-shapewear-zi3023core0...  ...   \n",
       "4       highlander-men-olive-green-slim-fit-solid-regu...  ...   \n",
       "...                                                   ...  ...   \n",
       "117536  hrx-by-hrithik-roshan-women-navy-blue-nautical...  ...   \n",
       "117537           stylestone-women-black-solid-track-pants  ...   \n",
       "117538  hrx-by-hrithik-roshan-women-black--green-print...  ...   \n",
       "117539  hrx-by-hrithik-roshan-women-north-sea-printed-...  ...   \n",
       "117540  hrx-by-hrithik-roshan-green-printed-rapid-dry-...  ...   \n",
       "\n",
       "        pca_individual_category_18  pca_individual_category_19  \\\n",
       "0                        -0.005001                   -0.004482   \n",
       "1                        -0.008943                   -0.007922   \n",
       "2                        -0.005118                   -0.004585   \n",
       "3                         0.041040                    0.048508   \n",
       "4                        -0.007880                   -0.007002   \n",
       "...                            ...                         ...   \n",
       "117536                   -0.003031                   -0.002733   \n",
       "117537                   -0.008943                   -0.007922   \n",
       "117538                   -0.003031                   -0.002733   \n",
       "117539                   -0.003031                   -0.002733   \n",
       "117540                   -0.003031                   -0.002733   \n",
       "\n",
       "        Category_Indian Wear  Category_Inner Wear &  Sleep Wear  \\\n",
       "0                        0.0                                0.0   \n",
       "1                        0.0                                0.0   \n",
       "2                        0.0                                0.0   \n",
       "3                        0.0                                0.0   \n",
       "4                        0.0                                0.0   \n",
       "...                      ...                                ...   \n",
       "117536                   0.0                                0.0   \n",
       "117537                   0.0                                0.0   \n",
       "117538                   0.0                                0.0   \n",
       "117539                   0.0                                0.0   \n",
       "117540                   0.0                                0.0   \n",
       "\n",
       "        Category_Lingerie & Sleep Wear  Category_Plus Size  \\\n",
       "0                                  0.0                 0.0   \n",
       "1                                  0.0                 0.0   \n",
       "2                                  0.0                 0.0   \n",
       "3                                  1.0                 0.0   \n",
       "4                                  0.0                 0.0   \n",
       "...                                ...                 ...   \n",
       "117536                             0.0                 0.0   \n",
       "117537                             0.0                 0.0   \n",
       "117538                             0.0                 0.0   \n",
       "117539                             0.0                 0.0   \n",
       "117540                             0.0                 0.0   \n",
       "\n",
       "        Category_Sports Wear  Category_Topwear  Category_Western  \\\n",
       "0                        0.0               0.0               0.0   \n",
       "1                        0.0               0.0               0.0   \n",
       "2                        0.0               1.0               0.0   \n",
       "3                        0.0               0.0               0.0   \n",
       "4                        0.0               0.0               0.0   \n",
       "...                      ...               ...               ...   \n",
       "117536                   1.0               0.0               0.0   \n",
       "117537                   1.0               0.0               0.0   \n",
       "117538                   1.0               0.0               0.0   \n",
       "117539                   1.0               0.0               0.0   \n",
       "117540                   1.0               0.0               0.0   \n",
       "\n",
       "        category_by_Gender_Women  \n",
       "0                            0.0  \n",
       "1                            0.0  \n",
       "2                            0.0  \n",
       "3                            1.0  \n",
       "4                            0.0  \n",
       "...                          ...  \n",
       "117536                       1.0  \n",
       "117537                       1.0  \n",
       "117538                       1.0  \n",
       "117539                       1.0  \n",
       "117540                       1.0  \n",
       "\n",
       "[117541 rows x 58 columns]"
      ]
     },
     "execution_count": 3,
     "metadata": {},
     "output_type": "execute_result"
    }
   ],
   "source": [
    "path =  './clothes_df_clean_with_outliers.csv'\n",
    "clothing_df= pd.read_csv(path)\n",
    "clothing_df"
   ]
  },
  {
   "cell_type": "markdown",
   "id": "a04c1ce7-c412-4168-b15f-51260b027d9e",
   "metadata": {},
   "source": [
    "### Upon further investigation, the DiscountOffer features need a little more cleaning"
   ]
  },
  {
   "cell_type": "code",
   "execution_count": 4,
   "id": "0ea70a04-6e8b-4933-951d-24f3b5b7d0bd",
   "metadata": {},
   "outputs": [],
   "source": [
    "# Extract numeric values from DiscountOffer - just incase the split didn't\n",
    "clothing_df['DiscountOffer'] = clothing_df['DiscountOffer'].str.extract('(\\d+)').astype(float)"
   ]
  },
  {
   "cell_type": "markdown",
   "id": "3b355545-611f-4962-90fd-147f81265eb4",
   "metadata": {},
   "source": [
    "#### Verify the data types of the features once more"
   ]
  },
  {
   "cell_type": "code",
   "execution_count": 5,
   "id": "d5ff6f8d-cc24-4187-82c8-97093ea16c36",
   "metadata": {},
   "outputs": [
    {
     "data": {
      "text/plain": [
       "URL                                   object\n",
       "Product_id                             int64\n",
       "Description                           object\n",
       "DiscountPrice                        float64\n",
       "OriginalPrice                        float64\n",
       "DiscountOffer                        float64\n",
       "SizeOption                            object\n",
       "Ratings                              float64\n",
       "Reviews                              float64\n",
       "product_name                          object\n",
       "pca_brandname_0                      float64\n",
       "pca_brandname_1                      float64\n",
       "pca_brandname_2                      float64\n",
       "pca_brandname_3                      float64\n",
       "pca_brandname_4                      float64\n",
       "pca_brandname_5                      float64\n",
       "pca_brandname_6                      float64\n",
       "pca_brandname_7                      float64\n",
       "pca_brandname_8                      float64\n",
       "pca_brandname_9                      float64\n",
       "pca_brandname_10                     float64\n",
       "pca_brandname_11                     float64\n",
       "pca_brandname_12                     float64\n",
       "pca_brandname_13                     float64\n",
       "pca_brandname_14                     float64\n",
       "pca_brandname_15                     float64\n",
       "pca_brandname_16                     float64\n",
       "pca_brandname_17                     float64\n",
       "pca_brandname_18                     float64\n",
       "pca_brandname_19                     float64\n",
       "pca_individual_category_0            float64\n",
       "pca_individual_category_1            float64\n",
       "pca_individual_category_2            float64\n",
       "pca_individual_category_3            float64\n",
       "pca_individual_category_4            float64\n",
       "pca_individual_category_5            float64\n",
       "pca_individual_category_6            float64\n",
       "pca_individual_category_7            float64\n",
       "pca_individual_category_8            float64\n",
       "pca_individual_category_9            float64\n",
       "pca_individual_category_10           float64\n",
       "pca_individual_category_11           float64\n",
       "pca_individual_category_12           float64\n",
       "pca_individual_category_13           float64\n",
       "pca_individual_category_14           float64\n",
       "pca_individual_category_15           float64\n",
       "pca_individual_category_16           float64\n",
       "pca_individual_category_17           float64\n",
       "pca_individual_category_18           float64\n",
       "pca_individual_category_19           float64\n",
       "Category_Indian Wear                 float64\n",
       "Category_Inner Wear &  Sleep Wear    float64\n",
       "Category_Lingerie & Sleep Wear       float64\n",
       "Category_Plus Size                   float64\n",
       "Category_Sports Wear                 float64\n",
       "Category_Topwear                     float64\n",
       "Category_Western                     float64\n",
       "category_by_Gender_Women             float64\n",
       "dtype: object"
      ]
     },
     "execution_count": 5,
     "metadata": {},
     "output_type": "execute_result"
    }
   ],
   "source": [
    "clothing_df.dtypes"
   ]
  },
  {
   "cell_type": "markdown",
   "id": "37886455-2189-4820-be72-772863ead8ef",
   "metadata": {},
   "source": [
    "#### Remarks: Data types looks good ( as expected)"
   ]
  },
  {
   "cell_type": "code",
   "execution_count": null,
   "id": "8e323aae-46ea-49f9-b6ba-fc35a1e5aeaf",
   "metadata": {},
   "outputs": [],
   "source": []
  },
  {
   "cell_type": "markdown",
   "id": "c9a1f81e-f9da-4b62-b1c5-29bb5a963779",
   "metadata": {},
   "source": [
    "#### Split dataset (80, 20)"
   ]
  },
  {
   "cell_type": "code",
   "execution_count": 6,
   "id": "ecc4a8bf-aa56-4868-8b27-9f35e24b5310",
   "metadata": {},
   "outputs": [],
   "source": [
    "# Split the data\n",
    "train_data, test_data = train_test_split(clothing_df, test_size=0.2, random_state=42)\n"
   ]
  },
  {
   "cell_type": "code",
   "execution_count": 70,
   "id": "1bd2c246-6aa2-46f1-996e-4332610483c4",
   "metadata": {},
   "outputs": [
    {
     "data": {
      "text/html": [
       "<div>\n",
       "<style scoped>\n",
       "    .dataframe tbody tr th:only-of-type {\n",
       "        vertical-align: middle;\n",
       "    }\n",
       "\n",
       "    .dataframe tbody tr th {\n",
       "        vertical-align: top;\n",
       "    }\n",
       "\n",
       "    .dataframe thead th {\n",
       "        text-align: right;\n",
       "    }\n",
       "</style>\n",
       "<table border=\"1\" class=\"dataframe\">\n",
       "  <thead>\n",
       "    <tr style=\"text-align: right;\">\n",
       "      <th></th>\n",
       "      <th>URL</th>\n",
       "      <th>Product_id</th>\n",
       "      <th>Description</th>\n",
       "      <th>DiscountPrice</th>\n",
       "      <th>OriginalPrice</th>\n",
       "      <th>DiscountOffer</th>\n",
       "      <th>SizeOption</th>\n",
       "      <th>Ratings</th>\n",
       "      <th>Reviews</th>\n",
       "      <th>product_name</th>\n",
       "      <th>...</th>\n",
       "      <th>pca_individual_category_18</th>\n",
       "      <th>pca_individual_category_19</th>\n",
       "      <th>Category_Indian Wear</th>\n",
       "      <th>Category_Inner Wear &amp;  Sleep Wear</th>\n",
       "      <th>Category_Lingerie &amp; Sleep Wear</th>\n",
       "      <th>Category_Plus Size</th>\n",
       "      <th>Category_Sports Wear</th>\n",
       "      <th>Category_Topwear</th>\n",
       "      <th>Category_Western</th>\n",
       "      <th>category_by_Gender_Women</th>\n",
       "    </tr>\n",
       "  </thead>\n",
       "  <tbody>\n",
       "    <tr>\n",
       "      <th>82823</th>\n",
       "      <td>https://www.myntra.com/trousers/people/people-...</td>\n",
       "      <td>13371328</td>\n",
       "      <td>people men green regular fit printed joggers</td>\n",
       "      <td>1019.0</td>\n",
       "      <td>1699.0</td>\n",
       "      <td>40.0</td>\n",
       "      <td>30, 32, 34, 36, 38</td>\n",
       "      <td>4.0</td>\n",
       "      <td>9.0</td>\n",
       "      <td>people-men-green-regular-fit-printed-joggers</td>\n",
       "      <td>...</td>\n",
       "      <td>-0.00788</td>\n",
       "      <td>-0.007002</td>\n",
       "      <td>0.0</td>\n",
       "      <td>0.0</td>\n",
       "      <td>0.0</td>\n",
       "      <td>0.0</td>\n",
       "      <td>0.0</td>\n",
       "      <td>0.0</td>\n",
       "      <td>0.0</td>\n",
       "      <td>0.0</td>\n",
       "    </tr>\n",
       "  </tbody>\n",
       "</table>\n",
       "<p>1 rows × 58 columns</p>\n",
       "</div>"
      ],
      "text/plain": [
       "                                                     URL  Product_id  \\\n",
       "82823  https://www.myntra.com/trousers/people/people-...    13371328   \n",
       "\n",
       "                                        Description  DiscountPrice  \\\n",
       "82823  people men green regular fit printed joggers         1019.0   \n",
       "\n",
       "       OriginalPrice  DiscountOffer          SizeOption  Ratings  Reviews  \\\n",
       "82823         1699.0           40.0  30, 32, 34, 36, 38      4.0      9.0   \n",
       "\n",
       "                                       product_name  ...  \\\n",
       "82823  people-men-green-regular-fit-printed-joggers  ...   \n",
       "\n",
       "       pca_individual_category_18  pca_individual_category_19  \\\n",
       "82823                    -0.00788                   -0.007002   \n",
       "\n",
       "       Category_Indian Wear  Category_Inner Wear &  Sleep Wear  \\\n",
       "82823                   0.0                                0.0   \n",
       "\n",
       "       Category_Lingerie & Sleep Wear  Category_Plus Size  \\\n",
       "82823                             0.0                 0.0   \n",
       "\n",
       "       Category_Sports Wear  Category_Topwear  Category_Western  \\\n",
       "82823                   0.0               0.0               0.0   \n",
       "\n",
       "       category_by_Gender_Women  \n",
       "82823                       0.0  \n",
       "\n",
       "[1 rows x 58 columns]"
      ]
     },
     "execution_count": 70,
     "metadata": {},
     "output_type": "execute_result"
    }
   ],
   "source": [
    "train_data.sample(1)"
   ]
  },
  {
   "cell_type": "markdown",
   "id": "d7d7a558-8ed2-42ee-b0b4-50ce988f9888",
   "metadata": {},
   "source": [
    "##### cb_features: To be used for the training. \n",
    "\n",
    "Since they are many, we can exclude the non_cb_features from all columns and take the rest as our cb_features."
   ]
  },
  {
   "cell_type": "code",
   "execution_count": 7,
   "id": "13cc7e0e-8ae5-4dea-8ea4-30c84aa4aa83",
   "metadata": {},
   "outputs": [],
   "source": [
    "# train_data' is our dataframe and 'cb_features' are the columns to be used\n",
    "non_cb_features = ['Product_id', 'URL', 'SizeOption', 'Ratings', 'Reviews', 'Description', 'product_name']\n",
    "cb_features = [col for col in train_data.columns if col not in non_cb_features]\n"
   ]
  },
  {
   "cell_type": "code",
   "execution_count": 8,
   "id": "79e1f6c5-4317-47e0-ad7a-659a75d557b4",
   "metadata": {},
   "outputs": [
    {
     "data": {
      "text/plain": [
       "['DiscountPrice',\n",
       " 'OriginalPrice',\n",
       " 'DiscountOffer',\n",
       " 'pca_brandname_0',\n",
       " 'pca_brandname_1',\n",
       " 'pca_brandname_2',\n",
       " 'pca_brandname_3',\n",
       " 'pca_brandname_4',\n",
       " 'pca_brandname_5',\n",
       " 'pca_brandname_6',\n",
       " 'pca_brandname_7',\n",
       " 'pca_brandname_8',\n",
       " 'pca_brandname_9',\n",
       " 'pca_brandname_10',\n",
       " 'pca_brandname_11',\n",
       " 'pca_brandname_12',\n",
       " 'pca_brandname_13',\n",
       " 'pca_brandname_14',\n",
       " 'pca_brandname_15',\n",
       " 'pca_brandname_16',\n",
       " 'pca_brandname_17',\n",
       " 'pca_brandname_18',\n",
       " 'pca_brandname_19',\n",
       " 'pca_individual_category_0',\n",
       " 'pca_individual_category_1',\n",
       " 'pca_individual_category_2',\n",
       " 'pca_individual_category_3',\n",
       " 'pca_individual_category_4',\n",
       " 'pca_individual_category_5',\n",
       " 'pca_individual_category_6',\n",
       " 'pca_individual_category_7',\n",
       " 'pca_individual_category_8',\n",
       " 'pca_individual_category_9',\n",
       " 'pca_individual_category_10',\n",
       " 'pca_individual_category_11',\n",
       " 'pca_individual_category_12',\n",
       " 'pca_individual_category_13',\n",
       " 'pca_individual_category_14',\n",
       " 'pca_individual_category_15',\n",
       " 'pca_individual_category_16',\n",
       " 'pca_individual_category_17',\n",
       " 'pca_individual_category_18',\n",
       " 'pca_individual_category_19',\n",
       " 'Category_Indian Wear',\n",
       " 'Category_Inner Wear &  Sleep Wear',\n",
       " 'Category_Lingerie & Sleep Wear',\n",
       " 'Category_Plus Size',\n",
       " 'Category_Sports Wear',\n",
       " 'Category_Topwear',\n",
       " 'Category_Western',\n",
       " 'category_by_Gender_Women']"
      ]
     },
     "execution_count": 8,
     "metadata": {},
     "output_type": "execute_result"
    }
   ],
   "source": [
    "cb_features"
   ]
  },
  {
   "cell_type": "code",
   "execution_count": 9,
   "id": "95d8e413-735d-4814-a1de-7fa196767f02",
   "metadata": {},
   "outputs": [
    {
     "data": {
      "text/plain": [
       "51"
      ]
     },
     "execution_count": 9,
     "metadata": {},
     "output_type": "execute_result"
    }
   ],
   "source": [
    "len(cb_features)"
   ]
  },
  {
   "cell_type": "markdown",
   "id": "14a98b12-f4be-4913-a67c-69d5efe4a399",
   "metadata": {},
   "source": [
    "#### Remarks: We are using 51 features for the training. This has increased because of the one-hot encoding applied on the categorical features."
   ]
  },
  {
   "cell_type": "code",
   "execution_count": null,
   "id": "fd5495d1-bbc2-41b5-9d5f-5377f6bf2a5a",
   "metadata": {},
   "outputs": [],
   "source": []
  },
  {
   "cell_type": "markdown",
   "id": "d35568f1-58e1-4510-8db7-741ee2adeff6",
   "metadata": {},
   "source": [
    "#### Let's create the TF-IDF (Term Frequency -Inverse Document Frequency) matrix:\n",
    "Important to enable the model learn how important a word is in the corpus, "
   ]
  },
  {
   "cell_type": "code",
   "execution_count": 10,
   "id": "c90444cd-df5a-4675-a258-29d95a34e96e",
   "metadata": {},
   "outputs": [],
   "source": [
    "# Create the TF-IDF matrix for CB filtering\n",
    "tfidf_matrix = train_data.set_index('Product_id')[cb_features].fillna(0)"
   ]
  },
  {
   "cell_type": "code",
   "execution_count": 12,
   "id": "7dd537a3-7226-45aa-9f40-138a9505f387",
   "metadata": {},
   "outputs": [],
   "source": [
    "tfidf_matrix.to_csv('tfidf_matrix.csv', index = False)"
   ]
  },
  {
   "cell_type": "markdown",
   "id": "ed53894c-8adc-4db5-aafd-5648afb76bd2",
   "metadata": {},
   "source": [
    "#### Transforminig the data to a Sparse matrix for memory efficiency and performance.\n",
    "This will store only the non-zero elements and their positions, which will significantly reduce memory usage."
   ]
  },
  {
   "cell_type": "code",
   "execution_count": 13,
   "id": "60caefd5-3893-4f36-85ed-ed738ca449ce",
   "metadata": {},
   "outputs": [],
   "source": [
    "# Transform to a sparse matrix\n",
    "tfidf_sparse = csr_matrix(tfidf_matrix)"
   ]
  },
  {
   "cell_type": "code",
   "execution_count": 14,
   "id": "5a6429c0-3ee5-43ea-8f81-0f001634d255",
   "metadata": {},
   "outputs": [
    {
     "data": {
      "text/plain": [
       "<94032x51 sparse matrix of type '<class 'numpy.float64'>'\n",
       "\twith 4163997 stored elements in Compressed Sparse Row format>"
      ]
     },
     "execution_count": 14,
     "metadata": {},
     "output_type": "execute_result"
    }
   ],
   "source": [
    "tfidf_sparse"
   ]
  },
  {
   "cell_type": "markdown",
   "id": "d599759a-f093-4b7a-b63b-0b1b5fd9cf12",
   "metadata": {},
   "source": [
    "#### Instantiate our model for the learning: NearestNeighbors\n",
    "We will use the cosine metric whch will use cosine similarity to measure distances between data points. \n",
    "Also, the algorith is brute, meaning the algorithm will use the brute-force approach for finding  nearest neighbours. Here, it will calculate all pairwise distances."
   ]
  },
  {
   "cell_type": "code",
   "execution_count": 15,
   "id": "f3bb9ffb-0844-45cb-91cc-10c1c1317f7a",
   "metadata": {},
   "outputs": [
    {
     "data": {
      "text/html": [
       "<style>#sk-container-id-1 {color: black;}#sk-container-id-1 pre{padding: 0;}#sk-container-id-1 div.sk-toggleable {background-color: white;}#sk-container-id-1 label.sk-toggleable__label {cursor: pointer;display: block;width: 100%;margin-bottom: 0;padding: 0.3em;box-sizing: border-box;text-align: center;}#sk-container-id-1 label.sk-toggleable__label-arrow:before {content: \"▸\";float: left;margin-right: 0.25em;color: #696969;}#sk-container-id-1 label.sk-toggleable__label-arrow:hover:before {color: black;}#sk-container-id-1 div.sk-estimator:hover label.sk-toggleable__label-arrow:before {color: black;}#sk-container-id-1 div.sk-toggleable__content {max-height: 0;max-width: 0;overflow: hidden;text-align: left;background-color: #f0f8ff;}#sk-container-id-1 div.sk-toggleable__content pre {margin: 0.2em;color: black;border-radius: 0.25em;background-color: #f0f8ff;}#sk-container-id-1 input.sk-toggleable__control:checked~div.sk-toggleable__content {max-height: 200px;max-width: 100%;overflow: auto;}#sk-container-id-1 input.sk-toggleable__control:checked~label.sk-toggleable__label-arrow:before {content: \"▾\";}#sk-container-id-1 div.sk-estimator input.sk-toggleable__control:checked~label.sk-toggleable__label {background-color: #d4ebff;}#sk-container-id-1 div.sk-label input.sk-toggleable__control:checked~label.sk-toggleable__label {background-color: #d4ebff;}#sk-container-id-1 input.sk-hidden--visually {border: 0;clip: rect(1px 1px 1px 1px);clip: rect(1px, 1px, 1px, 1px);height: 1px;margin: -1px;overflow: hidden;padding: 0;position: absolute;width: 1px;}#sk-container-id-1 div.sk-estimator {font-family: monospace;background-color: #f0f8ff;border: 1px dotted black;border-radius: 0.25em;box-sizing: border-box;margin-bottom: 0.5em;}#sk-container-id-1 div.sk-estimator:hover {background-color: #d4ebff;}#sk-container-id-1 div.sk-parallel-item::after {content: \"\";width: 100%;border-bottom: 1px solid gray;flex-grow: 1;}#sk-container-id-1 div.sk-label:hover label.sk-toggleable__label {background-color: #d4ebff;}#sk-container-id-1 div.sk-serial::before {content: \"\";position: absolute;border-left: 1px solid gray;box-sizing: border-box;top: 0;bottom: 0;left: 50%;z-index: 0;}#sk-container-id-1 div.sk-serial {display: flex;flex-direction: column;align-items: center;background-color: white;padding-right: 0.2em;padding-left: 0.2em;position: relative;}#sk-container-id-1 div.sk-item {position: relative;z-index: 1;}#sk-container-id-1 div.sk-parallel {display: flex;align-items: stretch;justify-content: center;background-color: white;position: relative;}#sk-container-id-1 div.sk-item::before, #sk-container-id-1 div.sk-parallel-item::before {content: \"\";position: absolute;border-left: 1px solid gray;box-sizing: border-box;top: 0;bottom: 0;left: 50%;z-index: -1;}#sk-container-id-1 div.sk-parallel-item {display: flex;flex-direction: column;z-index: 1;position: relative;background-color: white;}#sk-container-id-1 div.sk-parallel-item:first-child::after {align-self: flex-end;width: 50%;}#sk-container-id-1 div.sk-parallel-item:last-child::after {align-self: flex-start;width: 50%;}#sk-container-id-1 div.sk-parallel-item:only-child::after {width: 0;}#sk-container-id-1 div.sk-dashed-wrapped {border: 1px dashed gray;margin: 0 0.4em 0.5em 0.4em;box-sizing: border-box;padding-bottom: 0.4em;background-color: white;}#sk-container-id-1 div.sk-label label {font-family: monospace;font-weight: bold;display: inline-block;line-height: 1.2em;}#sk-container-id-1 div.sk-label-container {text-align: center;}#sk-container-id-1 div.sk-container {/* jupyter's `normalize.less` sets `[hidden] { display: none; }` but bootstrap.min.css set `[hidden] { display: none !important; }` so we also need the `!important` here to be able to override the default hidden behavior on the sphinx rendered scikit-learn.org. See: https://github.com/scikit-learn/scikit-learn/issues/21755 */display: inline-block !important;position: relative;}#sk-container-id-1 div.sk-text-repr-fallback {display: none;}</style><div id=\"sk-container-id-1\" class=\"sk-top-container\"><div class=\"sk-text-repr-fallback\"><pre>NearestNeighbors(algorithm=&#x27;brute&#x27;, metric=&#x27;cosine&#x27;)</pre><b>In a Jupyter environment, please rerun this cell to show the HTML representation or trust the notebook. <br />On GitHub, the HTML representation is unable to render, please try loading this page with nbviewer.org.</b></div><div class=\"sk-container\" hidden><div class=\"sk-item\"><div class=\"sk-estimator sk-toggleable\"><input class=\"sk-toggleable__control sk-hidden--visually\" id=\"sk-estimator-id-1\" type=\"checkbox\" checked><label for=\"sk-estimator-id-1\" class=\"sk-toggleable__label sk-toggleable__label-arrow\">NearestNeighbors</label><div class=\"sk-toggleable__content\"><pre>NearestNeighbors(algorithm=&#x27;brute&#x27;, metric=&#x27;cosine&#x27;)</pre></div></div></div></div></div>"
      ],
      "text/plain": [
       "NearestNeighbors(algorithm='brute', metric='cosine')"
      ]
     },
     "execution_count": 15,
     "metadata": {},
     "output_type": "execute_result"
    }
   ],
   "source": [
    "# Use NearestNeighbors for approximate nearest neighbors\n",
    "nn = NearestNeighbors(metric='cosine', algorithm='brute')\n",
    "nn.fit(tfidf_sparse)"
   ]
  },
  {
   "cell_type": "markdown",
   "id": "cd55ef9b-6bf3-40c9-9ec2-36ad71596004",
   "metadata": {},
   "source": [
    "#### Create a function `get_recommendations` that finds top 10 similar products"
   ]
  },
  {
   "cell_type": "code",
   "execution_count": 16,
   "id": "851f33ad-7597-4d84-a21f-721cedeb9adf",
   "metadata": {},
   "outputs": [],
   "source": [
    "def get_recommendations(item_index, model, data, n_neighbors=10):\n",
    "    distances, indices = model.kneighbors(data[item_index], n_neighbors=n_neighbors)\n",
    "    return indices.flatten(), distances.flatten() \n"
   ]
  },
  {
   "cell_type": "code",
   "execution_count": 91,
   "id": "5a0a1aad-f1af-4b90-bcbb-a6f8b5af5030",
   "metadata": {},
   "outputs": [
    {
     "data": {
      "text/plain": [
       "<1x51 sparse matrix of type '<class 'numpy.float64'>'\n",
       "\twith 44 stored elements in Compressed Sparse Row format>"
      ]
     },
     "execution_count": 91,
     "metadata": {},
     "output_type": "execute_result"
    }
   ],
   "source": []
  },
  {
   "cell_type": "markdown",
   "id": "e8eb8b09-bcfa-4b64-9533-fd01e70a1fde",
   "metadata": {},
   "source": [
    "#### A dictionary to store similar products"
   ]
  },
  {
   "cell_type": "code",
   "execution_count": 17,
   "id": "d7647ee9-2df1-4f44-a06b-c27f94ebc0ee",
   "metadata": {},
   "outputs": [],
   "source": [
    "recommendations = {}\n",
    "\n",
    "for idx in range(tfidf_sparse.shape[0]):\n",
    "    recommended_indices, _ = get_recommendations(idx, nn, tfidf_sparse)\n",
    "    recommendations[idx] = recommended_indices[1:]  # Exclude the item itself\n"
   ]
  },
  {
   "cell_type": "code",
   "execution_count": 183,
   "id": "eb4b09be-8f22-49c3-bf9e-d1baaba0fa24",
   "metadata": {},
   "outputs": [
    {
     "data": {
      "text/plain": [
       "94032"
      ]
     },
     "execution_count": 183,
     "metadata": {},
     "output_type": "execute_result"
    }
   ],
   "source": [
    "len(recommendations)"
   ]
  },
  {
   "cell_type": "code",
   "execution_count": 184,
   "id": "fc7d5986-bda9-400c-aa69-8d9324513048",
   "metadata": {},
   "outputs": [],
   "source": [
    "import itertools\n"
   ]
  },
  {
   "cell_type": "code",
   "execution_count": 218,
   "id": "ab5e17a7-952e-41f1-8818-3b97d0df5079",
   "metadata": {},
   "outputs": [
    {
     "name": "stdout",
     "output_type": "stream",
     "text": [
      "0: [50887 85091 32084     0 73879 79702   455 30376  8199]\n",
      "1: [12702 40885 12430 64844 35903 58191 59197 44724  7489]\n",
      "2: [    2 47101 76754 35142 54342 11154 59934 31758  7711]\n",
      "3: [50075 65971     3  3383 26498 68853 40772 38163 40254]\n",
      "4: [25237 77896 65972 51734 54097 17628 69652 72103 54726]\n",
      "5: [51779 33126 37991 38249 51530 16942 57689     5 30968]\n",
      "6: [46383 76234 31735 23093 41119 54577 34203 69794     6]\n",
      "7: [    7 77931 79371 71559 58646 48784 66480 77420 30360]\n",
      "8: [ 2175 78710 16198 15797 31902 29874 65378 84900 76416]\n",
      "9: [18895 19881  3227 30408 48025 56966 56119 88585 15013]\n"
     ]
    }
   ],
   "source": [
    "for key, value in itertools.islice(recommendations.items(), 10):\n",
    "    print(f\"{key}: {value}\")"
   ]
  },
  {
   "cell_type": "code",
   "execution_count": 219,
   "id": "9980615f-91d3-4e30-97cd-581173f4e97e",
   "metadata": {},
   "outputs": [
    {
     "name": "stdout",
     "output_type": "stream",
     "text": [
      "Recommendations saved successfully.\n"
     ]
    }
   ],
   "source": [
    "# Save the recommendations dictionary to a file\n",
    "with open('recommendations_with_outliers.pkl', 'wb') as f:\n",
    "    pickle.dump(recommendations, f)\n",
    "\n",
    "print(\"Recommendations saved successfully.\")"
   ]
  },
  {
   "cell_type": "code",
   "execution_count": 99,
   "id": "269f53ee-d3f4-49cb-9a8b-2dfbcc46fe30",
   "metadata": {},
   "outputs": [],
   "source": [
    "# Function to get similar products with descriptions\n",
    "def get_similar_products_(product_id, n_neighbors=10):\n",
    "    product_index = tfidf_matrix.index.get_loc(product_id)\n",
    "    print(f'product_index: {product_index}')\n",
    "    recommendations, _ = get_recommendations(product_index, nn, tfidf_sparse, n_neighbors=n_neighbors)\n",
    "    recommended_products = [tfidf_matrix.index[idx] for idx in recommendations[1:]]\n",
    "    \n",
    "    # Get descriptions for the recommended products\n",
    "    similar_products_with_descriptions = []\n",
    "    for product in recommended_products:\n",
    "        product_name = clothing_df.loc[clothing_df['Product_id'] == product, 'product_name'].values[0]\n",
    "        similar_products_with_descriptions.append((product, product_name))\n",
    "    \n",
    "    return similar_products_with_descriptions"
   ]
  },
  {
   "cell_type": "code",
   "execution_count": 100,
   "id": "2a214292-25cf-4fd3-9c22-5d9538c9722c",
   "metadata": {},
   "outputs": [
    {
     "name": "stdout",
     "output_type": "stream",
     "text": [
      "product_index: 105\n",
      "Product ID: 11876518, Product: t-base-men-olive-brown-tapered-fit-solid-cargos\n",
      "Product ID: 11871132, Product: t-base-men-charcoal-grey-tapered-fit-solid-cargos\n",
      "Product ID: 14064346, Product: t-base-men-olive-green-slim-fit-solid-cargos\n",
      "Product ID: 11876516, Product: t-base-men-olive-green--brown-slim-fit-camouflage-print-cargos\n"
     ]
    }
   ],
   "source": [
    "# Example: Get top 5 similar products for a given product_id\n",
    "product_id_example = train_data['Product_id'].iloc[105]\n",
    "similar_products = get_similar_products_(product_id_example, n_neighbors=5)\n",
    "for product in similar_products:\n",
    "    print(f\"Product ID: {product[0]}, Product: {product[1]}\")"
   ]
  },
  {
   "cell_type": "code",
   "execution_count": 36,
   "id": "5dc8e39f-ff39-4f63-93c9-e68c586f1bba",
   "metadata": {},
   "outputs": [],
   "source": [
    "from sklearn.metrics.pairwise import cosine_similarity\n",
    "import numpy as np\n"
   ]
  },
  {
   "cell_type": "code",
   "execution_count": null,
   "id": "b7752b6c-0724-49a1-8a2b-e886d8e1ff6e",
   "metadata": {},
   "outputs": [],
   "source": []
  },
  {
   "cell_type": "code",
   "execution_count": 60,
   "id": "5f48a000-2c34-49c3-8dac-cc34fa6cb7ad",
   "metadata": {},
   "outputs": [],
   "source": [
    "# Function to calculate cosine similarity between a product and its recommended items\n",
    "def calculate_cosine_similarity(tfidf_matrix, product_id, recommended_indices):\n",
    "    product_index = tfidf_matrix.index.get_loc(product_id)\n",
    "    product_vector = tfidf_matrix.iloc[product_index].values.reshape(1, -1)\n",
    "    recommended_vectors = tfidf_matrix.iloc[recommended_indices].values\n",
    "    \n",
    "    # Compute cosine similarity\n",
    "    similarities = cosine_similarity(product_vector, recommended_vectors)[0]\n",
    "    return similarities\n",
    "    \n",
    "# Function to calculate average cosine similarity for all products\n",
    "def average_cosine_similarity(tfidf_matrix, recommendations):\n",
    "    total_similarity = 0\n",
    "    count = 0\n",
    "    \n",
    "    for product_id, recommended_indices in recommendations.items():\n",
    "        similarities = calculate_cosine_similarity(tfidf_matrix, product_id, recommended_indices[1:])\n",
    "        total_similarity += similarities.sum()\n",
    "        count += len(similarities)\n",
    "    \n",
    "    return total_similarity / count if count != 0 else 0\n",
    "# Function to calculate average intra-list similarity for all products\n",
    "def average_intra_list_similarity(tfidf_matrix, recommendations):\n",
    "    total_similarity = 0\n",
    "    count = 0\n",
    "    \n",
    "    for recommended_indices in recommendations.values():\n",
    "        total_similarity += intra_list_similarity(tfidf_matrix, recommended_indices)\n",
    "        count += 1\n",
    "    \n",
    "    return total_similarity / count if count != 0 else 0\n"
   ]
  },
  {
   "cell_type": "code",
   "execution_count": 163,
   "id": "a4281cb9-dbad-4435-a676-ae17b9b11dc5",
   "metadata": {},
   "outputs": [
    {
     "data": {
      "text/plain": [
       "14883170"
      ]
     },
     "execution_count": 163,
     "metadata": {},
     "output_type": "execute_result"
    }
   ],
   "source": [
    "# Example usage:\n",
    "product_id_example = train_data['Product_id'].iloc[35]\n",
    "product_id_example "
   ]
  },
  {
   "cell_type": "code",
   "execution_count": 164,
   "id": "02881b59-3c29-4882-9550-84f5b984505c",
   "metadata": {},
   "outputs": [
    {
     "data": {
      "text/plain": [
       "35"
      ]
     },
     "execution_count": 164,
     "metadata": {},
     "output_type": "execute_result"
    }
   ],
   "source": [
    "product_index = tfidf_matrix.index.get_loc(product_id_example)\n",
    "product_index"
   ]
  },
  {
   "cell_type": "code",
   "execution_count": null,
   "id": "549243de-fce3-43f8-ae0f-a4f7c51c3878",
   "metadata": {},
   "outputs": [],
   "source": []
  },
  {
   "cell_type": "code",
   "execution_count": 165,
   "id": "5ff98bec-6810-47a5-a60c-f9eb1e668502",
   "metadata": {},
   "outputs": [
    {
     "data": {
      "text/plain": [
       "array([69574,    35, 65579, 51353, 27056, 52230, 76423, 72426, 39422],\n",
       "      dtype=int64)"
      ]
     },
     "execution_count": 165,
     "metadata": {},
     "output_type": "execute_result"
    }
   ],
   "source": [
    "recommended_indices, _ = get_recommendations(product_index, nn, tfidf_sparse, n_neighbors=10)\n",
    "recommended_indices[1:]"
   ]
  },
  {
   "cell_type": "code",
   "execution_count": 167,
   "id": "bbb7521c-24c9-4215-9dfc-3ce04322ae3b",
   "metadata": {},
   "outputs": [
    {
     "data": {
      "text/plain": [
       "array([1., 1., 1., 1., 1., 1., 1., 1., 1.])"
      ]
     },
     "execution_count": 167,
     "metadata": {},
     "output_type": "execute_result"
    }
   ],
   "source": [
    "similarities = calculate_cosine_similarity(tfidf_matrix, product_index, recommended_indices[1:])\n",
    "similarities"
   ]
  },
  {
   "cell_type": "code",
   "execution_count": null,
   "id": "485299af-c3c3-4a82-a5f0-e73a949fd1bb",
   "metadata": {},
   "outputs": [],
   "source": []
  },
  {
   "cell_type": "code",
   "execution_count": 154,
   "id": "ab5cff89-c2ee-48bb-9357-e18ba1162795",
   "metadata": {},
   "outputs": [],
   "source": [
    "# Function to calculate cosine similarity between a product and its recommended items\n",
    "def calculate_cosine_similarity(tfidf_matrix, product_index, recommended_indices):\n",
    "    product_vector = tfidf_matrix.iloc[product_index].values.reshape(1, -1)\n",
    "    recommended_vectors = tfidf_matrix.iloc[recommended_indices].values\n",
    "    \n",
    "    # Compute cosine similarity\n",
    "    similarities = cosine_similarity(product_vector, recommended_vectors)[0]\n",
    "    return similarities\n"
   ]
  },
  {
   "cell_type": "code",
   "execution_count": 155,
   "id": "f3a5d6b5-63d3-4758-9f0e-5fab15b45e86",
   "metadata": {},
   "outputs": [],
   "source": [
    "# Function to calculate average cosine similarity for all products\n",
    "def average_cosine_similarity(tfidf_matrix, recommendations):\n",
    "    total_similarity = 0\n",
    "    count = 0\n",
    "    \n",
    "    for product_index, recommended_indices in recommendations.items():\n",
    "        if len(recommended_indices) > 1:  # Check if there are recommendations\n",
    "            # Exclude the item itself\n",
    "            similarities = calculate_cosine_similarity(tfidf_matrix, product_index, recommended_indices[1:])\n",
    "            total_similarity += similarities.sum()\n",
    "            count += len(similarities)\n",
    "    \n",
    "    return total_similarity / count if count != 0 else 0"
   ]
  },
  {
   "cell_type": "code",
   "execution_count": 156,
   "id": "b2121a40-c560-434d-b567-1647384e095c",
   "metadata": {},
   "outputs": [],
   "source": [
    "# Function to calculate intra-list similarity for a list of recommended items\n",
    "def intra_list_similarity(tfidf_matrix, recommended_indices):\n",
    "    if len(recommended_indices) < 2:\n",
    "        return 0\n",
    "    \n",
    "    vectors = tfidf_matrix.iloc[recommended_indices].values\n",
    "    pairwise_similarities = cosine_similarity(vectors)\n",
    "    \n",
    "    # Only consider the upper triangle of the similarity matrix, excluding the diagonal\n",
    "    num_pairs = len(recommended_indices) * (len(recommended_indices) - 1) / 2\n",
    "    return pairwise_similarities.sum() / (2 * num_pairs)\n"
   ]
  },
  {
   "cell_type": "code",
   "execution_count": 157,
   "id": "468a6296-8a4d-4a91-907f-f5d5b477719a",
   "metadata": {},
   "outputs": [],
   "source": [
    "# Function to calculate average intra-list similarity for all products\n",
    "def average_intra_list_similarity(tfidf_matrix, recommendations):\n",
    "    total_similarity = 0\n",
    "    count = 0\n",
    "    \n",
    "    for recommended_indices in recommendations.values():\n",
    "        if len(recommended_indices) > 1:  # Check if there are recommendations\n",
    "            total_similarity += intra_list_similarity(tfidf_matrix, recommended_indices[1:])\n",
    "            count += 1\n",
    "    \n",
    "    return total_similarity / count if count != 0 else 0"
   ]
  },
  {
   "cell_type": "code",
   "execution_count": 158,
   "id": "9f1ad245-af5a-4d7e-a7a8-74e345e9199f",
   "metadata": {},
   "outputs": [
    {
     "name": "stdout",
     "output_type": "stream",
     "text": [
      "Average Cosine Similarity: 0.9999995272161474\n",
      "Average Intra-List Similarity: 1.1428566802923616\n"
     ]
    }
   ],
   "source": [
    "\n",
    "average_similarity = average_cosine_similarity(tfidf_matrix, recommendations)\n",
    "average_intra_list_sim = average_intra_list_similarity(tfidf_matrix, recommendations)\n",
    "\n",
    "print(f\"Average Cosine Similarity: {average_similarity}\")\n",
    "print(f\"Average Intra-List Similarity: {average_intra_list_sim}\")"
   ]
  },
  {
   "cell_type": "code",
   "execution_count": 168,
   "id": "3136df60-b0db-48df-bf17-f99e472c79da",
   "metadata": {},
   "outputs": [],
   "source": [
    "# Function to partition the recommendations dictionary into N groups\n",
    "def partition_recommendations(recommendations, num_groups):\n",
    "    keys = list(recommendations.keys())\n",
    "    group_size = len(keys) // num_groups\n",
    "    remainder = len(keys) % num_groups\n",
    "    \n",
    "    groups = []\n",
    "    start = 0\n",
    "    \n",
    "    for i in range(num_groups):\n",
    "        end = start + group_size + (1 if i < remainder else 0)\n",
    "        group_keys = keys[start:end]\n",
    "        group_recommendations = {key: recommendations[key] for key in group_keys}\n",
    "        groups.append(group_recommendations)\n",
    "        start = end\n",
    "    \n",
    "    return groups\n"
   ]
  },
  {
   "cell_type": "code",
   "execution_count": 169,
   "id": "6bf8be84-56d0-4193-9de7-7edc295f00d3",
   "metadata": {},
   "outputs": [],
   "source": [
    "# Function to calculate the average metrics for a group of recommendations\n",
    "def average_metrics_for_group(tfidf_matrix, group_recommendations):\n",
    "    avg_cosine_similarity = average_cosine_similarity(tfidf_matrix, group_recommendations)\n",
    "    avg_intra_list_similarity = average_intra_list_similarity(tfidf_matrix, group_recommendations)\n",
    "    return avg_cosine_similarity, avg_intra_list_similarity\n"
   ]
  },
  {
   "cell_type": "code",
   "execution_count": 170,
   "id": "930e6ce4-ef48-4f2e-837c-7533ed8546e6",
   "metadata": {},
   "outputs": [],
   "source": [
    "# Partition the recommendations into 25 groups\n",
    "num_groups = 25\n",
    "recommendation_groups = partition_recommendations(recommendations, num_groups)\n"
   ]
  },
  {
   "cell_type": "code",
   "execution_count": 171,
   "id": "07a83b14-81a1-4d7e-a634-e9e541541ddb",
   "metadata": {},
   "outputs": [],
   "source": [
    "# Calculate average metrics for each group\n",
    "average_cosine_similarities = []\n",
    "average_intra_list_similarities = []\n",
    "\n",
    "for group in recommendation_groups:\n",
    "    avg_cos_sim, avg_intra_sim = average_metrics_for_group(tfidf_matrix, group)\n",
    "    average_cosine_similarities.append(avg_cos_sim)\n",
    "    average_intra_list_similarities.append(avg_intra_sim)\n"
   ]
  },
  {
   "cell_type": "code",
   "execution_count": 172,
   "id": "7ba40021-ab3f-4b38-bf56-5db5ca6aa3c1",
   "metadata": {},
   "outputs": [
    {
     "name": "stdout",
     "output_type": "stream",
     "text": [
      "    Group  Average Cosine Similarity  Average Intra-List Similarity\n",
      "0       1                   1.000000                       1.142857\n",
      "1       2                   1.000000                       1.142857\n",
      "2       3                   1.000000                       1.142857\n",
      "3       4                   1.000000                       1.142857\n",
      "4       5                   1.000000                       1.142857\n",
      "5       6                   1.000000                       1.142857\n",
      "6       7                   0.999999                       1.142857\n",
      "7       8                   1.000000                       1.142857\n",
      "8       9                   1.000000                       1.142857\n",
      "9      10                   1.000000                       1.142857\n",
      "10     11                   0.999999                       1.142856\n",
      "11     12                   1.000000                       1.142857\n",
      "12     13                   0.999999                       1.142857\n",
      "13     14                   0.999999                       1.142857\n",
      "14     15                   1.000000                       1.142857\n",
      "15     16                   0.999999                       1.142857\n",
      "16     17                   1.000000                       1.142857\n",
      "17     18                   1.000000                       1.142857\n",
      "18     19                   1.000000                       1.142857\n",
      "19     20                   0.999999                       1.142857\n",
      "20     21                   1.000000                       1.142857\n",
      "21     22                   0.999999                       1.142857\n",
      "22     23                   1.000000                       1.142857\n",
      "23     24                   0.999999                       1.142857\n",
      "24     25                   1.000000                       1.142857\n"
     ]
    }
   ],
   "source": [
    "# Create a DataFrame for visualization\n",
    "metrics_df = pd.DataFrame({\n",
    "    'Group': range(1, num_groups + 1),\n",
    "    'Average Cosine Similarity': average_cosine_similarities,\n",
    "    'Average Intra-List Similarity': average_intra_list_similarities\n",
    "})\n",
    "\n",
    "print(metrics_df)"
   ]
  },
  {
   "cell_type": "code",
   "execution_count": null,
   "id": "cc336d66-4632-438f-a3f0-af34fbdeee9c",
   "metadata": {},
   "outputs": [],
   "source": []
  },
  {
   "cell_type": "code",
   "execution_count": 174,
   "id": "d541acd3-80d2-4303-a27b-d3673d8409c7",
   "metadata": {},
   "outputs": [
    {
     "data": {
      "text/plain": [
       "Text(0, 0.5, 'Average Cosine Similarity')"
      ]
     },
     "execution_count": 174,
     "metadata": {},
     "output_type": "execute_result"
    },
    {
     "data": {
      "image/png": "[encoded data removed]",
      "text/plain": [
       "<Figure size 1400x700 with 1 Axes>"
      ]
     },
     "metadata": {},
     "output_type": "display_data"
    }
   ],
   "source": [
    "# Plotting the results\n",
    "import matplotlib.pyplot as plt\n",
    "\n",
    "plt.figure(figsize=(14, 7))\n",
    "\n",
    "# Plot Average Cosine Similarity\n",
    "plt.subplot(1, 2, 1)\n",
    "plt.plot(metrics_df['Group'], metrics_df['Average Cosine Similarity'], marker='o')\n",
    "plt.title('Average Cosine Similarity by Group')\n",
    "plt.xlabel('Group')\n",
    "plt.ylabel('Average Cosine Similarity')\n"
   ]
  },
  {
   "cell_type": "code",
   "execution_count": 177,
   "id": "cfbe4b04-6e9c-4319-9b00-989571b0f51b",
   "metadata": {},
   "outputs": [
    {
     "data": {
      "image/png": "[encoded data removed]",
      "text/plain": [
       "<Figure size 1400x700 with 1 Axes>"
      ]
     },
     "metadata": {},
     "output_type": "display_data"
    }
   ],
   "source": [
    "# Plot Average Intra-List Similarity\n",
    "plt.figure(figsize=(14, 7))\n",
    "plt.subplot(1, 2, 2)\n",
    "plt.plot(metrics_df['Group'], metrics_df['Average Intra-List Similarity'], marker='o', color='orange')\n",
    "plt.title('Average Intra-List Similarity by Group')\n",
    "plt.xlabel('Group')\n",
    "plt.ylabel('Average Intra-List Similarity')\n",
    "\n",
    "plt.tight_layout()\n"
   ]
  },
  {
   "cell_type": "code",
   "execution_count": 190,
   "id": "adf7aef0-74f9-4526-80a2-d279a6856f37",
   "metadata": {
    "scrolled": true
   },
   "outputs": [
    {
     "data": {
      "image/png": "[encoded data removed]",
      "text/plain": [
       "<Figure size 1400x700 with 2 Axes>"
      ]
     },
     "metadata": {},
     "output_type": "display_data"
    }
   ],
   "source": [
    "import matplotlib.pyplot as plt\n",
    "import matplotlib.ticker as ticker\n",
    "\n",
    "# Plotting the results with adjusted y-axis labels\n",
    "plt.figure(figsize=(14, 7))\n",
    "\n",
    "# Plot Average Cosine Similarity\n",
    "plt.subplot(1, 2, 1)\n",
    "plt.plot(metrics_df['Group'], metrics_df['Average Cosine Similarity'], marker='o')\n",
    "plt.title('Average Cosine Similarity by Group')\n",
    "plt.xlabel('Group')\n",
    "plt.ylabel('Average Cosine Similarity')\n",
    "\n",
    "# Customize y-axis\n",
    "plt.gca().yaxis.set_major_formatter(ticker.ScalarFormatter(useMathText=True))\n",
    "plt.gca().yaxis.set_minor_formatter(ticker.NullFormatter())\n",
    "\n",
    "# Plot Average Intra-List Similarity\n",
    "plt.subplot(1, 2, 2)\n",
    "plt.plot(metrics_df['Group'], metrics_df['Average Intra-List Similarity'], marker='o', color='orange')\n",
    "plt.title('Average Intra-List Similarity by Group')\n",
    "plt.xlabel('Group')\n",
    "plt.ylabel('Average Intra-List Similarity')\n",
    "\n",
    "# Customize y-axis\n",
    "plt.gca().yaxis.set_major_formatter(ticker.ScalarFormatter(useMathText=True))\n",
    "plt.gca().yaxis.set_minor_formatter(ticker.NullFormatter())\n",
    "\n",
    "plt.tight_layout()\n",
    "plt.savefig('metrics-with-outliers.png')\n",
    "plt.show()\n"
   ]
  },
  {
   "cell_type": "code",
   "execution_count": null,
   "id": "b50e2842-a9ad-48cf-8c2b-3a222ab7e8d8",
   "metadata": {},
   "outputs": [],
   "source": []
  }
 ],
 "metadata": {
  "kernelspec": {
   "display_name": "Python 3 (ipykernel)",
   "language": "python",
   "name": "python3"
  },
  "language_info": {
   "codemirror_mode": {
    "name": "ipython",
    "version": 3
   },
   "file_extension": ".py",
   "mimetype": "text/x-python",
   "name": "python",
   "nbconvert_exporter": "python",
   "pygments_lexer": "ipython3",
   "version": "3.11.5"
  }
 },
 "nbformat": 4,
 "nbformat_minor": 5
}
